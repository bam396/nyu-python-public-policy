{
  "nbformat": 4,
  "nbformat_minor": 0,
  "metadata": {
    "colab": {
      "name": "HW4-old",
      "provenance": [],
      "collapsed_sections": [],
      "include_colab_link": true
    },
    "kernelspec": {
      "name": "python3",
      "display_name": "Python 3"
    }
  },
  "cells": [
    {
      "cell_type": "markdown",
      "metadata": {
        "id": "view-in-github",
        "colab_type": "text"
      },
      "source": [
        "<a href=\"https://colab.research.google.com/github/bam396/nyu-python-public-policy/blob/master/HW4_old.ipynb\" target=\"_parent\"><img src=\"https://colab.research.google.com/assets/colab-badge.svg\" alt=\"Open In Colab\"/></a>"
      ]
    },
    {
      "cell_type": "markdown",
      "metadata": {
        "id": "N0yvnxgZf4ni",
        "colab_type": "text"
      },
      "source": [
        "# HOMEWORK 4 Coding: Analyzing and visualizing specific categories of 311 complaints\n",
        "\n",
        "Create a new Google Colab notebook called \"HW4\".\n",
        "\n",
        "**Problem Statement:** When comparing total 311 request counts per community district against the respective population, there seems to be a general trend that the higher the population, the higher the number of 311 requests. However, there is a lot of variance in the data. Maybe narrowing in on specific complaint type categories will help us better understand trends in 311 requests across the city.\n",
        "\n",
        "\"Noise\" and \"heat and hot water\" were the most frequest requests in the entire 311 dataset. Let's try isolating the count of requests in each of those two categories versus all the other complaints."
      ]
    },
    {
      "cell_type": "markdown",
      "metadata": {
        "id": "6KeYUm8mgN33",
        "colab_type": "text"
      },
      "source": [
        "**Step 1.** First you will need to prep your data to get the count of complaints in each of the three categories. "
      ]
    },
    {
      "cell_type": "code",
      "metadata": {
        "id": "grD1G9PBf01X",
        "colab_type": "code",
        "colab": {}
      },
      "source": [
        "import pandas as pd\n",
        "from google.colab import drive"
      ],
      "execution_count": 0,
      "outputs": []
    },
    {
      "cell_type": "code",
      "metadata": {
        "id": "wp1VQgUPg63F",
        "colab_type": "code",
        "colab": {}
      },
      "source": [
        "import matplotlib.pyplot as plt \n",
        "import numpy as np"
      ],
      "execution_count": 0,
      "outputs": []
    },
    {
      "cell_type": "code",
      "metadata": {
        "id": "jNFwPmfSg8IJ",
        "colab_type": "code",
        "colab": {}
      },
      "source": [
        "# You can use pd.set_option() to make sure you see all the rows and columns in your dataframe\n",
        "pd.set_option('display.max_columns', None)\n",
        "pd.set_option('display.max_rows', None)"
      ],
      "execution_count": 0,
      "outputs": []
    },
    {
      "cell_type": "code",
      "metadata": {
        "id": "yRzboTETg-kL",
        "colab_type": "code",
        "outputId": "b393530b-f372-43b8-f961-dcaba9854a9b",
        "colab": {
          "base_uri": "https://localhost:8080/",
          "height": 122
        }
      },
      "source": [
        "drive.mount('/content/drive')\n",
        "# follow the link it generates, choose your account, and then paste in the authorization code it provides"
      ],
      "execution_count": 4,
      "outputs": [
        {
          "output_type": "stream",
          "text": [
            "Go to this URL in a browser: https://accounts.google.com/o/oauth2/auth?client_id=947318989803-6bn6qk8qdgf4n4g3pfee6491hc0brc4i.apps.googleusercontent.com&redirect_uri=urn%3aietf%3awg%3aoauth%3a2.0%3aoob&response_type=code&scope=email%20https%3a%2f%2fwww.googleapis.com%2fauth%2fdocs.test%20https%3a%2f%2fwww.googleapis.com%2fauth%2fdrive%20https%3a%2f%2fwww.googleapis.com%2fauth%2fdrive.photos.readonly%20https%3a%2f%2fwww.googleapis.com%2fauth%2fpeopleapi.readonly\n",
            "\n",
            "Enter your authorization code:\n",
            "··········\n",
            "Mounted at /content/drive\n"
          ],
          "name": "stdout"
        }
      ]
    },
    {
      "cell_type": "code",
      "metadata": {
        "id": "Dz4iDGasheja",
        "colab_type": "code",
        "outputId": "be4afa29-a5ed-4189-e4a8-7be3faad4233",
        "colab": {
          "base_uri": "https://localhost:8080/",
          "height": 51
        }
      },
      "source": [
        "df = pd.read_csv('/content/drive/My Drive/Data for Python/cleaned_311_data.csv', header='infer')"
      ],
      "execution_count": 5,
      "outputs": [
        {
          "output_type": "stream",
          "text": [
            "/usr/local/lib/python3.6/dist-packages/IPython/core/interactiveshell.py:2718: DtypeWarning: Columns (9,18,21,32,35) have mixed types. Specify dtype option on import or set low_memory=False.\n",
            "  interactivity=interactivity, compiler=compiler, result=result)\n"
          ],
          "name": "stderr"
        }
      ]
    },
    {
      "cell_type": "markdown",
      "metadata": {
        "id": "FARdkMIVLQWM",
        "colab_type": "text"
      },
      "source": [
        "You can update the code from lecture that gets the total count of 311 requests per CD to instead get the count of 311 requests per CD that meet the criteria for the 3 categories. You should create three seprate dataframes, one per category:\n",
        "1.   complaint_type = 'Noise - Residential'\n",
        "2.   complaint_type = 'HEAT/HOT WATER'\n",
        "3.   Everything else: (complaint_type != 'Noise - Residential' and complaint_type != 'HEAT/HOT WATER')"
      ]
    },
    {
      "cell_type": "code",
      "metadata": {
        "id": "xxisjJm5NUk3",
        "colab_type": "code",
        "colab": {}
      },
      "source": [
        "df['complaint_type'] = df['complaint_type'].str.lower()"
      ],
      "execution_count": 0,
      "outputs": []
    },
    {
      "cell_type": "code",
      "metadata": {
        "id": "SHs4NpCuac2o",
        "colab_type": "code",
        "outputId": "47ba80a0-7b20-4484-ba1f-40cc46cf1b7a",
        "colab": {
          "base_uri": "https://localhost:8080/",
          "height": 1000
        }
      },
      "source": [
        "cb_counts = df.groupby('community_board').size().reset_index(name='count_of_311_requests')\n",
        "print(cb_counts)"
      ],
      "execution_count": 7,
      "outputs": [
        {
          "output_type": "stream",
          "text": [
            "              community_board  count_of_311_requests\n",
            "0               0 Unspecified                  39385\n",
            "1                    01 BRONX                  27353\n",
            "2                 01 BROOKLYN                  68101\n",
            "3                01 MANHATTAN                  21259\n",
            "4                   01 QUEENS                  60425\n",
            "5            01 STATEN ISLAND                  65145\n",
            "6                    02 BRONX                  20039\n",
            "7                 02 BROOKLYN                  44061\n",
            "8                02 MANHATTAN                  36688\n",
            "9                   02 QUEENS                  35238\n",
            "10           02 STATEN ISLAND                  40179\n",
            "11                   03 BRONX                  29738\n",
            "12                03 BROOKLYN                  66360\n",
            "13               03 MANHATTAN                  51399\n",
            "14                  03 QUEENS                  39240\n",
            "15           03 STATEN ISLAND                  48729\n",
            "16                   04 BRONX                  61086\n",
            "17                04 BROOKLYN                  49552\n",
            "18               04 MANHATTAN                  38819\n",
            "19                  04 QUEENS                  33501\n",
            "20                   05 BRONX                  51820\n",
            "21                05 BROOKLYN                  61836\n",
            "22               05 MANHATTAN                  37466\n",
            "23                  05 QUEENS                  71506\n",
            "24                   06 BRONX                  32439\n",
            "25                06 BROOKLYN                  42539\n",
            "26               06 MANHATTAN                  29874\n",
            "27                  06 QUEENS                  26407\n",
            "28                   07 BRONX                  55735\n",
            "29                07 BROOKLYN                  36290\n",
            "30               07 MANHATTAN                  46230\n",
            "31                  07 QUEENS                  63634\n",
            "32                   08 BRONX                  32807\n",
            "33                08 BROOKLYN                  43872\n",
            "34               08 MANHATTAN                  38327\n",
            "35                  08 QUEENS                  49221\n",
            "36                   09 BRONX                  46044\n",
            "37                09 BROOKLYN                  42655\n",
            "38               09 MANHATTAN                  39260\n",
            "39                  09 QUEENS                  54421\n",
            "40                   10 BRONX                  32879\n",
            "41                10 BROOKLYN                  43990\n",
            "42               10 MANHATTAN                  50024\n",
            "43                  10 QUEENS                  48707\n",
            "44                   11 BRONX                  37505\n",
            "45                11 BROOKLYN                  52801\n",
            "46               11 MANHATTAN                  32428\n",
            "47                  11 QUEENS                  32628\n",
            "48                   12 BRONX                  53688\n",
            "49                12 BROOKLYN                  46420\n",
            "50               12 MANHATTAN                  81402\n",
            "51                  12 QUEENS                  70361\n",
            "52                13 BROOKLYN                  22156\n",
            "53                  13 QUEENS                  54003\n",
            "54                14 BROOKLYN                  57194\n",
            "55                  14 QUEENS                  30350\n",
            "56                15 BROOKLYN                  48739\n",
            "57                16 BROOKLYN                  28742\n",
            "58                17 BROOKLYN                  58864\n",
            "59                18 BROOKLYN                  54523\n",
            "60                   26 BRONX                    163\n",
            "61                   27 BRONX                    105\n",
            "62                   28 BRONX                    134\n",
            "63                55 BROOKLYN                    365\n",
            "64                56 BROOKLYN                     88\n",
            "65               64 MANHATTAN                    723\n",
            "66                  80 QUEENS                    582\n",
            "67                  81 QUEENS                    239\n",
            "68                  82 QUEENS                    452\n",
            "69                  83 QUEENS                   1100\n",
            "70                  84 QUEENS                     67\n",
            "71           95 STATEN ISLAND                    115\n",
            "72          Unspecified BRONX                  30591\n",
            "73       Unspecified BROOKLYN                  38959\n",
            "74      Unspecified MANHATTAN                  37652\n",
            "75         Unspecified QUEENS                  28459\n",
            "76  Unspecified STATEN ISLAND                   3133\n"
          ],
          "name": "stdout"
        }
      ]
    },
    {
      "cell_type": "code",
      "metadata": {
        "id": "wgxfFlsScyF2",
        "colab_type": "code",
        "colab": {
          "base_uri": "https://localhost:8080/",
          "height": 530
        },
        "outputId": "943ad464-59c4-47c0-8da7-ee050853e7af"
      },
      "source": [
        "def recode_borocd_counts(row):\n",
        "    if row.community_board[0] != 'U':\n",
        "      if 'MANHATTAN' in row.community_board:\n",
        "        return '1' + row.community_board[:2]\n",
        "      elif 'BRONX' in row.community_board:\n",
        "        return '2' + row.community_board[:2]\n",
        "      elif 'BROOKLYN' in row.community_board:\n",
        "        return '3' + row.community_board[:2]\n",
        "      elif 'QUEENS' in row.community_board:\n",
        "        return '4' + row.community_board[:2]\n",
        "      elif 'STATEN ISLAND' in row.community_board:\n",
        "        return '5' + row.community_board[:2]\n",
        "    else:\n",
        "      return 'Invalid borocd'\n",
        "\n",
        "df['borocd'] = df.apply(recode_borocd_counts, axis=1)\n",
        "\n",
        "# checking recode\n",
        "df.head()"
      ],
      "execution_count": 27,
      "outputs": [
        {
          "output_type": "execute_result",
          "data": {
            "text/html": [
              "<div>\n",
              "<style scoped>\n",
              "    .dataframe tbody tr th:only-of-type {\n",
              "        vertical-align: middle;\n",
              "    }\n",
              "\n",
              "    .dataframe tbody tr th {\n",
              "        vertical-align: top;\n",
              "    }\n",
              "\n",
              "    .dataframe thead th {\n",
              "        text-align: right;\n",
              "    }\n",
              "</style>\n",
              "<table border=\"1\" class=\"dataframe\">\n",
              "  <thead>\n",
              "    <tr style=\"text-align: right;\">\n",
              "      <th></th>\n",
              "      <th>Unnamed: 0</th>\n",
              "      <th>unique_key</th>\n",
              "      <th>created_date</th>\n",
              "      <th>closed_date</th>\n",
              "      <th>agency</th>\n",
              "      <th>agency_name</th>\n",
              "      <th>complaint_type</th>\n",
              "      <th>descriptor</th>\n",
              "      <th>location_type</th>\n",
              "      <th>incident_zip</th>\n",
              "      <th>incident_address</th>\n",
              "      <th>street_name</th>\n",
              "      <th>cross_street_1</th>\n",
              "      <th>cross_street_2</th>\n",
              "      <th>intersection_street_1</th>\n",
              "      <th>intersection_street_2</th>\n",
              "      <th>address_type</th>\n",
              "      <th>city</th>\n",
              "      <th>landmark</th>\n",
              "      <th>facility_type</th>\n",
              "      <th>status</th>\n",
              "      <th>due_date</th>\n",
              "      <th>resolution_description</th>\n",
              "      <th>resolution_action_updated_date</th>\n",
              "      <th>community_board</th>\n",
              "      <th>bbl</th>\n",
              "      <th>borough</th>\n",
              "      <th>x_coordinate_(state_plane)</th>\n",
              "      <th>y_coordinate_(state_plane)</th>\n",
              "      <th>open_data_channel_type</th>\n",
              "      <th>park_facility_name</th>\n",
              "      <th>park_borough</th>\n",
              "      <th>vehicle_type</th>\n",
              "      <th>taxi_company_borough</th>\n",
              "      <th>taxi_pick_up_location</th>\n",
              "      <th>bridge_highway_name</th>\n",
              "      <th>bridge_highway_direction</th>\n",
              "      <th>road_ramp</th>\n",
              "      <th>bridge_highway_segment</th>\n",
              "      <th>latitude</th>\n",
              "      <th>longitude</th>\n",
              "      <th>location</th>\n",
              "      <th>borocd</th>\n",
              "    </tr>\n",
              "  </thead>\n",
              "  <tbody>\n",
              "    <tr>\n",
              "      <th>0</th>\n",
              "      <td>0</td>\n",
              "      <td>39888071</td>\n",
              "      <td>08/01/2018 12:00:10 AM</td>\n",
              "      <td>08/01/2018 01:52:46 AM</td>\n",
              "      <td>DHS</td>\n",
              "      <td>Operations Unit - Department of Homeless Services</td>\n",
              "      <td>homeless person assistance</td>\n",
              "      <td>NaN</td>\n",
              "      <td>Other</td>\n",
              "      <td>10029</td>\n",
              "      <td>200 EAST  109 STREET</td>\n",
              "      <td>EAST  109 STREET</td>\n",
              "      <td>3 AVENUE</td>\n",
              "      <td>2 AVENUE</td>\n",
              "      <td>NaN</td>\n",
              "      <td>NaN</td>\n",
              "      <td>ADDRESS</td>\n",
              "      <td>NEW YORK</td>\n",
              "      <td>NaN</td>\n",
              "      <td>NaN</td>\n",
              "      <td>Closed</td>\n",
              "      <td>08/01/2018 01:00:10 AM</td>\n",
              "      <td>The mobile outreach response team offered serv...</td>\n",
              "      <td>08/01/2018 01:52:46 AM</td>\n",
              "      <td>11 MANHATTAN</td>\n",
              "      <td>1.016560e+09</td>\n",
              "      <td>MANHATTAN</td>\n",
              "      <td>1000049.0</td>\n",
              "      <td>228317.0</td>\n",
              "      <td>MOBILE</td>\n",
              "      <td>Unspecified</td>\n",
              "      <td>MANHATTAN</td>\n",
              "      <td>NaN</td>\n",
              "      <td>NaN</td>\n",
              "      <td>NaN</td>\n",
              "      <td>NaN</td>\n",
              "      <td>NaN</td>\n",
              "      <td>NaN</td>\n",
              "      <td>NaN</td>\n",
              "      <td>40.793339</td>\n",
              "      <td>-73.942942</td>\n",
              "      <td>(40.79333937834769, -73.9429417746998)</td>\n",
              "      <td>111</td>\n",
              "    </tr>\n",
              "    <tr>\n",
              "      <th>1</th>\n",
              "      <td>1</td>\n",
              "      <td>39889166</td>\n",
              "      <td>08/01/2018 12:00:26 AM</td>\n",
              "      <td>08/18/2018 10:46:43 AM</td>\n",
              "      <td>HPD</td>\n",
              "      <td>Department of Housing Preservation and Develop...</td>\n",
              "      <td>door/window</td>\n",
              "      <td>DOOR</td>\n",
              "      <td>RESIDENTIAL BUILDING</td>\n",
              "      <td>10031</td>\n",
              "      <td>528 WEST  136 STREET</td>\n",
              "      <td>WEST  136 STREET</td>\n",
              "      <td>NaN</td>\n",
              "      <td>NaN</td>\n",
              "      <td>NaN</td>\n",
              "      <td>NaN</td>\n",
              "      <td>ADDRESS</td>\n",
              "      <td>NEW YORK</td>\n",
              "      <td>NaN</td>\n",
              "      <td>NaN</td>\n",
              "      <td>Closed</td>\n",
              "      <td>NaN</td>\n",
              "      <td>The Department of Housing Preservation and Dev...</td>\n",
              "      <td>08/18/2018 10:46:43 AM</td>\n",
              "      <td>09 MANHATTAN</td>\n",
              "      <td>1.019880e+09</td>\n",
              "      <td>MANHATTAN</td>\n",
              "      <td>997239.0</td>\n",
              "      <td>238074.0</td>\n",
              "      <td>PHONE</td>\n",
              "      <td>Unspecified</td>\n",
              "      <td>MANHATTAN</td>\n",
              "      <td>NaN</td>\n",
              "      <td>NaN</td>\n",
              "      <td>NaN</td>\n",
              "      <td>NaN</td>\n",
              "      <td>NaN</td>\n",
              "      <td>NaN</td>\n",
              "      <td>NaN</td>\n",
              "      <td>40.820124</td>\n",
              "      <td>-73.953071</td>\n",
              "      <td>(40.82012422332215, -73.9530712339799)</td>\n",
              "      <td>109</td>\n",
              "    </tr>\n",
              "    <tr>\n",
              "      <th>2</th>\n",
              "      <td>2</td>\n",
              "      <td>39882869</td>\n",
              "      <td>08/01/2018 12:00:54 AM</td>\n",
              "      <td>08/01/2018 12:49:55 AM</td>\n",
              "      <td>NYPD</td>\n",
              "      <td>New York City Police Department</td>\n",
              "      <td>noise - residential</td>\n",
              "      <td>Loud Music/Party</td>\n",
              "      <td>Residential Building/House</td>\n",
              "      <td>11216</td>\n",
              "      <td>761 LINCOLN PLACE</td>\n",
              "      <td>LINCOLN PLACE</td>\n",
              "      <td>ROGERS AVENUE</td>\n",
              "      <td>NOSTRAND AVENUE</td>\n",
              "      <td>NaN</td>\n",
              "      <td>NaN</td>\n",
              "      <td>ADDRESS</td>\n",
              "      <td>BROOKLYN</td>\n",
              "      <td>NaN</td>\n",
              "      <td>Precinct</td>\n",
              "      <td>Closed</td>\n",
              "      <td>08/01/2018 08:00:54 AM</td>\n",
              "      <td>The Police Department responded to the complai...</td>\n",
              "      <td>08/01/2018 12:49:55 AM</td>\n",
              "      <td>08 BROOKLYN</td>\n",
              "      <td>3.012540e+09</td>\n",
              "      <td>BROOKLYN</td>\n",
              "      <td>997732.0</td>\n",
              "      <td>183674.0</td>\n",
              "      <td>MOBILE</td>\n",
              "      <td>Unspecified</td>\n",
              "      <td>BROOKLYN</td>\n",
              "      <td>NaN</td>\n",
              "      <td>NaN</td>\n",
              "      <td>NaN</td>\n",
              "      <td>NaN</td>\n",
              "      <td>NaN</td>\n",
              "      <td>NaN</td>\n",
              "      <td>NaN</td>\n",
              "      <td>40.670809</td>\n",
              "      <td>-73.951399</td>\n",
              "      <td>(40.67080917938279, -73.9513990916184)</td>\n",
              "      <td>308</td>\n",
              "    </tr>\n",
              "    <tr>\n",
              "      <th>3</th>\n",
              "      <td>3</td>\n",
              "      <td>39894246</td>\n",
              "      <td>08/01/2018 12:01:00 AM</td>\n",
              "      <td>08/02/2018 10:30:00 PM</td>\n",
              "      <td>DEP</td>\n",
              "      <td>Department of Environmental Protection</td>\n",
              "      <td>noise</td>\n",
              "      <td>Noise: Construction Before/After Hours (NM1)</td>\n",
              "      <td>NaN</td>\n",
              "      <td>10010</td>\n",
              "      <td>NaN</td>\n",
              "      <td>NaN</td>\n",
              "      <td>NaN</td>\n",
              "      <td>NaN</td>\n",
              "      <td>5 AVENUE</td>\n",
              "      <td>EAST 21 STREET</td>\n",
              "      <td>INTERSECTION</td>\n",
              "      <td>NEW YORK</td>\n",
              "      <td>NaN</td>\n",
              "      <td>NaN</td>\n",
              "      <td>Closed</td>\n",
              "      <td>NaN</td>\n",
              "      <td>The Department of Environmental Protection did...</td>\n",
              "      <td>08/02/2018 10:30:00 PM</td>\n",
              "      <td>05 MANHATTAN</td>\n",
              "      <td>NaN</td>\n",
              "      <td>MANHATTAN</td>\n",
              "      <td>986878.0</td>\n",
              "      <td>208974.0</td>\n",
              "      <td>PHONE</td>\n",
              "      <td>Unspecified</td>\n",
              "      <td>MANHATTAN</td>\n",
              "      <td>NaN</td>\n",
              "      <td>NaN</td>\n",
              "      <td>NaN</td>\n",
              "      <td>NaN</td>\n",
              "      <td>NaN</td>\n",
              "      <td>NaN</td>\n",
              "      <td>NaN</td>\n",
              "      <td>40.740262</td>\n",
              "      <td>-73.990517</td>\n",
              "      <td>(40.74026158873342, -73.99051651686905)</td>\n",
              "      <td>105</td>\n",
              "    </tr>\n",
              "    <tr>\n",
              "      <th>4</th>\n",
              "      <td>4</td>\n",
              "      <td>39881329</td>\n",
              "      <td>08/01/2018 12:01:00 AM</td>\n",
              "      <td>08/05/2018 12:00:00 AM</td>\n",
              "      <td>DSNY</td>\n",
              "      <td>Department of Sanitation</td>\n",
              "      <td>request large bulky item collection</td>\n",
              "      <td>Request Large Bulky Item Collection</td>\n",
              "      <td>Sidewalk</td>\n",
              "      <td>11413</td>\n",
              "      <td>121-28 198 STREET</td>\n",
              "      <td>198 STREET</td>\n",
              "      <td>120 AVENUE</td>\n",
              "      <td>122 AVENUE</td>\n",
              "      <td>NaN</td>\n",
              "      <td>NaN</td>\n",
              "      <td>ADDRESS</td>\n",
              "      <td>Springfield Gardens</td>\n",
              "      <td>NaN</td>\n",
              "      <td>NaN</td>\n",
              "      <td>Closed</td>\n",
              "      <td>NaN</td>\n",
              "      <td>NaN</td>\n",
              "      <td>08/05/2018 12:00:00 AM</td>\n",
              "      <td>12 QUEENS</td>\n",
              "      <td>4.126830e+09</td>\n",
              "      <td>QUEENS</td>\n",
              "      <td>1053308.0</td>\n",
              "      <td>190084.0</td>\n",
              "      <td>PHONE</td>\n",
              "      <td>Unspecified</td>\n",
              "      <td>QUEENS</td>\n",
              "      <td>NaN</td>\n",
              "      <td>NaN</td>\n",
              "      <td>NaN</td>\n",
              "      <td>NaN</td>\n",
              "      <td>NaN</td>\n",
              "      <td>NaN</td>\n",
              "      <td>NaN</td>\n",
              "      <td>40.688144</td>\n",
              "      <td>-73.750990</td>\n",
              "      <td>(40.68814402968042, -73.75098958473612)</td>\n",
              "      <td>412</td>\n",
              "    </tr>\n",
              "  </tbody>\n",
              "</table>\n",
              "</div>"
            ],
            "text/plain": [
              "   Unnamed: 0  unique_key            created_date             closed_date  \\\n",
              "0           0    39888071  08/01/2018 12:00:10 AM  08/01/2018 01:52:46 AM   \n",
              "1           1    39889166  08/01/2018 12:00:26 AM  08/18/2018 10:46:43 AM   \n",
              "2           2    39882869  08/01/2018 12:00:54 AM  08/01/2018 12:49:55 AM   \n",
              "3           3    39894246  08/01/2018 12:01:00 AM  08/02/2018 10:30:00 PM   \n",
              "4           4    39881329  08/01/2018 12:01:00 AM  08/05/2018 12:00:00 AM   \n",
              "\n",
              "  agency                                        agency_name  \\\n",
              "0    DHS  Operations Unit - Department of Homeless Services   \n",
              "1    HPD  Department of Housing Preservation and Develop...   \n",
              "2   NYPD                    New York City Police Department   \n",
              "3    DEP             Department of Environmental Protection   \n",
              "4   DSNY                           Department of Sanitation   \n",
              "\n",
              "                        complaint_type  \\\n",
              "0           homeless person assistance   \n",
              "1                          door/window   \n",
              "2                  noise - residential   \n",
              "3                                noise   \n",
              "4  request large bulky item collection   \n",
              "\n",
              "                                     descriptor               location_type  \\\n",
              "0                                           NaN                       Other   \n",
              "1                                          DOOR        RESIDENTIAL BUILDING   \n",
              "2                              Loud Music/Party  Residential Building/House   \n",
              "3  Noise: Construction Before/After Hours (NM1)                         NaN   \n",
              "4           Request Large Bulky Item Collection                    Sidewalk   \n",
              "\n",
              "  incident_zip      incident_address       street_name cross_street_1  \\\n",
              "0        10029  200 EAST  109 STREET  EAST  109 STREET       3 AVENUE   \n",
              "1        10031  528 WEST  136 STREET  WEST  136 STREET            NaN   \n",
              "2        11216     761 LINCOLN PLACE     LINCOLN PLACE  ROGERS AVENUE   \n",
              "3        10010                   NaN               NaN            NaN   \n",
              "4        11413     121-28 198 STREET        198 STREET     120 AVENUE   \n",
              "\n",
              "    cross_street_2 intersection_street_1 intersection_street_2  address_type  \\\n",
              "0         2 AVENUE                   NaN                   NaN       ADDRESS   \n",
              "1              NaN                   NaN                   NaN       ADDRESS   \n",
              "2  NOSTRAND AVENUE                   NaN                   NaN       ADDRESS   \n",
              "3              NaN              5 AVENUE        EAST 21 STREET  INTERSECTION   \n",
              "4       122 AVENUE                   NaN                   NaN       ADDRESS   \n",
              "\n",
              "                  city landmark facility_type  status                due_date  \\\n",
              "0             NEW YORK      NaN           NaN  Closed  08/01/2018 01:00:10 AM   \n",
              "1             NEW YORK      NaN           NaN  Closed                     NaN   \n",
              "2             BROOKLYN      NaN      Precinct  Closed  08/01/2018 08:00:54 AM   \n",
              "3             NEW YORK      NaN           NaN  Closed                     NaN   \n",
              "4  Springfield Gardens      NaN           NaN  Closed                     NaN   \n",
              "\n",
              "                              resolution_description  \\\n",
              "0  The mobile outreach response team offered serv...   \n",
              "1  The Department of Housing Preservation and Dev...   \n",
              "2  The Police Department responded to the complai...   \n",
              "3  The Department of Environmental Protection did...   \n",
              "4                                                NaN   \n",
              "\n",
              "  resolution_action_updated_date community_board           bbl    borough  \\\n",
              "0         08/01/2018 01:52:46 AM    11 MANHATTAN  1.016560e+09  MANHATTAN   \n",
              "1         08/18/2018 10:46:43 AM    09 MANHATTAN  1.019880e+09  MANHATTAN   \n",
              "2         08/01/2018 12:49:55 AM     08 BROOKLYN  3.012540e+09   BROOKLYN   \n",
              "3         08/02/2018 10:30:00 PM    05 MANHATTAN           NaN  MANHATTAN   \n",
              "4         08/05/2018 12:00:00 AM       12 QUEENS  4.126830e+09     QUEENS   \n",
              "\n",
              "   x_coordinate_(state_plane)  y_coordinate_(state_plane)  \\\n",
              "0                   1000049.0                    228317.0   \n",
              "1                    997239.0                    238074.0   \n",
              "2                    997732.0                    183674.0   \n",
              "3                    986878.0                    208974.0   \n",
              "4                   1053308.0                    190084.0   \n",
              "\n",
              "  open_data_channel_type park_facility_name park_borough vehicle_type  \\\n",
              "0                 MOBILE        Unspecified    MANHATTAN          NaN   \n",
              "1                  PHONE        Unspecified    MANHATTAN          NaN   \n",
              "2                 MOBILE        Unspecified     BROOKLYN          NaN   \n",
              "3                  PHONE        Unspecified    MANHATTAN          NaN   \n",
              "4                  PHONE        Unspecified       QUEENS          NaN   \n",
              "\n",
              "  taxi_company_borough taxi_pick_up_location bridge_highway_name  \\\n",
              "0                  NaN                   NaN                 NaN   \n",
              "1                  NaN                   NaN                 NaN   \n",
              "2                  NaN                   NaN                 NaN   \n",
              "3                  NaN                   NaN                 NaN   \n",
              "4                  NaN                   NaN                 NaN   \n",
              "\n",
              "  bridge_highway_direction road_ramp bridge_highway_segment   latitude  \\\n",
              "0                      NaN       NaN                    NaN  40.793339   \n",
              "1                      NaN       NaN                    NaN  40.820124   \n",
              "2                      NaN       NaN                    NaN  40.670809   \n",
              "3                      NaN       NaN                    NaN  40.740262   \n",
              "4                      NaN       NaN                    NaN  40.688144   \n",
              "\n",
              "   longitude                                 location borocd  \n",
              "0 -73.942942   (40.79333937834769, -73.9429417746998)    111  \n",
              "1 -73.953071   (40.82012422332215, -73.9530712339799)    109  \n",
              "2 -73.951399   (40.67080917938279, -73.9513990916184)    308  \n",
              "3 -73.990517  (40.74026158873342, -73.99051651686905)    105  \n",
              "4 -73.750990  (40.68814402968042, -73.75098958473612)    412  "
            ]
          },
          "metadata": {
            "tags": []
          },
          "execution_count": 27
        }
      ]
    },
    {
      "cell_type": "code",
      "metadata": {
        "id": "oCvu4aklcXXx",
        "colab_type": "code",
        "colab": {}
      },
      "source": [
        "\n",
        "# this function will recode the community_board value into borocd in a new column\n",
        "  def recode_borocd_counts(row):\n",
        "    if row.community_board[0] != 'U':\n",
        "      if 'MANHATTAN' in row.community_board:\n",
        "        return '1' + row.community_board[:2]\n",
        "      elif 'BRONX' in row.community_board:\n",
        "        return '2' + row.community_board[:2]\n",
        "      elif 'BROOKLYN' in row.community_board:\n",
        "        return '3' + row.community_board[:2]\n",
        "      elif 'QUEENS' in row.community_board:\n",
        "        return '4' + row.community_board[:2]\n",
        "      elif 'STATEN ISLAND' in row.community_board:\n",
        "        return '5' + row.community_board[:2]\n",
        "    else:\n",
        "      return 'Invalid borocd'\n",
        "\n",
        "cb_counts['borocd'] = cb_counts.apply(recode_borocd_counts, axis=1)"
      ],
      "execution_count": 0,
      "outputs": []
    },
    {
      "cell_type": "code",
      "metadata": {
        "id": "DqyFemgFcmK8",
        "colab_type": "code",
        "colab": {}
      },
      "source": [
        "merged_data = pd.merge(left=cb_counts, right=df, left_on=['borocd','community_board'], right_on=['borocd','community_board'])"
      ],
      "execution_count": 0,
      "outputs": []
    },
    {
      "cell_type": "code",
      "metadata": {
        "id": "4Y1DGVicbMou",
        "colab_type": "code",
        "outputId": "5247b8c5-44ae-4c74-a368-ec470905cfb0",
        "colab": {
          "base_uri": "https://localhost:8080/",
          "height": 34
        }
      },
      "source": [
        "merged_data_noise = merged_data[merged_data.complaint_type=='noise - residential']\n",
        "merged_data_noise = merged_data_noise.groupby('borocd').size().reset_index(name='count_of_311_requests')\n",
        "#checking code\n",
        "print(len(merged_data_noise))"
      ],
      "execution_count": 42,
      "outputs": [
        {
          "output_type": "stream",
          "text": [
            "68\n"
          ],
          "name": "stdout"
        }
      ]
    },
    {
      "cell_type": "code",
      "metadata": {
        "id": "qZGuLiBQuzl9",
        "colab_type": "code",
        "colab": {
          "base_uri": "https://localhost:8080/",
          "height": 1000
        },
        "outputId": "f61d969d-042e-45f6-9dd8-677cecc78604"
      },
      "source": [
        "print(merged_data_noise)"
      ],
      "execution_count": 43,
      "outputs": [
        {
          "output_type": "stream",
          "text": [
            "   borocd  count_of_311_requests\n",
            "0     101                    722\n",
            "1     102                   1837\n",
            "2     103                   6272\n",
            "3     104                   2702\n",
            "4     105                    741\n",
            "5     106                   2078\n",
            "6     107                   4297\n",
            "7     108                   2283\n",
            "8     109                   4586\n",
            "9     110                   7659\n",
            "10    111                   4953\n",
            "11    112                  11755\n",
            "12    164                      3\n",
            "13    201                   3691\n",
            "14    202                   1939\n",
            "15    203                   4238\n",
            "16    204                   7407\n",
            "17    205                   6819\n",
            "18    206                   3871\n",
            "19    207                   9207\n",
            "20    208                   4406\n",
            "21    209                   5037\n",
            "22    210                   2305\n",
            "23    211                   5227\n",
            "24    212                   5585\n",
            "25    226                      1\n",
            "26    227                      1\n",
            "27    228                      2\n",
            "28    301                   5844\n",
            "29    302                   3795\n",
            "30    303                   7898\n",
            "31    304                   6394\n",
            "32    305                   5225\n",
            "33    306                   1884\n",
            "34    307                   1948\n",
            "35    308                   4068\n",
            "36    309                   4238\n",
            "37    310                   1837\n",
            "38    311                   1974\n",
            "39    312                   1901\n",
            "40    313                   2118\n",
            "41    314                   4884\n",
            "42    315                   2429\n",
            "43    316                   3161\n",
            "44    317                   4736\n",
            "45    318                   3168\n",
            "46    355                      4\n",
            "47    401                   4589\n",
            "48    402                   2279\n",
            "49    403                   3881\n",
            "50    404                   2710\n",
            "51    405                   4911\n",
            "52    406                   1835\n",
            "53    407                   3276\n",
            "54    408                   4429\n",
            "55    409                   5048\n",
            "56    410                   5213\n",
            "57    411                    810\n",
            "58    412                   6119\n",
            "59    413                   2872\n",
            "60    414                   2848\n",
            "61    481                      3\n",
            "62    482                      6\n",
            "63    484                      1\n",
            "64    501                   5052\n",
            "65    502                   1592\n",
            "66    503                   1188\n",
            "67    595                      3\n"
          ],
          "name": "stdout"
        }
      ]
    },
    {
      "cell_type": "code",
      "metadata": {
        "id": "V0cdtcxJRZpe",
        "colab_type": "code",
        "outputId": "20aa5ac6-885c-406f-f509-6cfabff101ed",
        "colab": {
          "base_uri": "https://localhost:8080/",
          "height": 34
        }
      },
      "source": [
        "merged_data_heat = merged_data[merged_data.complaint_type=='heat/hot water']\n",
        "merged_data_heat = merged_data_heat.groupby('borocd').size().reset_index(name='count_of_311_requests')\n",
        "#checking code\n",
        "print(len(merged_data_heat))"
      ],
      "execution_count": 44,
      "outputs": [
        {
          "output_type": "stream",
          "text": [
            "62\n"
          ],
          "name": "stdout"
        }
      ]
    },
    {
      "cell_type": "code",
      "metadata": {
        "id": "Dz3MLSFERo1y",
        "colab_type": "code",
        "outputId": "1134b3b1-e6f3-445b-8cb9-759f6172277b",
        "colab": {
          "base_uri": "https://localhost:8080/",
          "height": 68
        }
      },
      "source": [
        "merged_data_else = merged_data[merged_data.complaint_type != 'noise - residential'][merged_data.complaint_type != 'heat/hot water']\n",
        "merged_data_else = merged_data_else.groupby('borocd').size().reset_index(name='count_of_311_requests')\n",
        "#checking code\n",
        "print(len(merged_data_else))"
      ],
      "execution_count": 45,
      "outputs": [
        {
          "output_type": "stream",
          "text": [
            "/usr/local/lib/python3.6/dist-packages/ipykernel_launcher.py:1: UserWarning: Boolean Series key will be reindexed to match DataFrame index.\n",
            "  \"\"\"Entry point for launching an IPython kernel.\n"
          ],
          "name": "stderr"
        },
        {
          "output_type": "stream",
          "text": [
            "72\n"
          ],
          "name": "stdout"
        }
      ]
    },
    {
      "cell_type": "code",
      "metadata": {
        "id": "KoJ4BIehqVfF",
        "colab_type": "code",
        "colab": {
          "base_uri": "https://localhost:8080/",
          "height": 34
        },
        "outputId": "76e700a5-40c6-4520-e8ce-d0dbdd84ff6b"
      },
      "source": [
        "# per the starter template, checking all\n",
        "merged_data_all = merged_data.groupby('borocd').size().reset_index(name='count_of_311_requests')\n",
        "#checking code\n",
        "print(len(merged_data_all))"
      ],
      "execution_count": 46,
      "outputs": [
        {
          "output_type": "stream",
          "text": [
            "72\n"
          ],
          "name": "stdout"
        }
      ]
    },
    {
      "cell_type": "code",
      "metadata": {
        "id": "-JN03GRHrNsp",
        "colab_type": "code",
        "colab": {}
      },
      "source": [
        "valid_borocds = ['101','102','103','104','105','106','107','108','109','110','111','112','201','202','203','204','205','206','207','208','209','210','211','212','301','302','303','304','305','306','307','308','309','310','311','312','313','314','315','316','317','318','401','402','403','404','405','406','407','408','409','410','411','412','413','414','501','502','503']"
      ],
      "execution_count": 0,
      "outputs": []
    },
    {
      "cell_type": "code",
      "metadata": {
        "id": "MRWLe5Ttrc73",
        "colab_type": "code",
        "colab": {
          "base_uri": "https://localhost:8080/",
          "height": 85
        },
        "outputId": "d2eb6938-ae70-4bb5-b0dd-0c2c31c18c69"
      },
      "source": [
        "merged_data_noise = merged_data_noise[merged_data_noise.borocd.isin(valid_borocds)]\n",
        "print(len(merged_data_noise))\n",
        "\n",
        "merged_data_heat = merged_data_heat[merged_data_heat.borocd.isin(valid_borocds)]\n",
        "print(len(merged_data_heat))\n",
        "\n",
        "merged_data_else = merged_data_else[merged_data_else.borocd.isin(valid_borocds)]\n",
        "print(len(merged_data_else))\n",
        "\n",
        "merged_data_all = merged_data_all[merged_data_all.borocd.isin(valid_borocds)]\n",
        "print(len(merged_data_all))"
      ],
      "execution_count": 48,
      "outputs": [
        {
          "output_type": "stream",
          "text": [
            "59\n",
            "59\n",
            "59\n",
            "59\n"
          ],
          "name": "stdout"
        }
      ]
    },
    {
      "cell_type": "markdown",
      "metadata": {
        "id": "8VTRfop7Y9br",
        "colab_type": "text"
      },
      "source": [
        "**Step 2.** Create a stacked bar chart comprised of three stacked bars. The total height of each bar (the sum of the three stacked bars) should reflect the total count of 311 complaints per CD.\n",
        "\n",
        "1. number of 'Noise - Residential' complaints per CD\n",
        "2. number of 'HEAT/HOT WATER' complaints per CD\n",
        "3. number of other complaints per CD"
      ]
    }
  ]
}