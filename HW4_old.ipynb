{
  "nbformat": 4,
  "nbformat_minor": 0,
  "metadata": {
    "colab": {
      "name": "HW4-old",
      "provenance": [],
      "collapsed_sections": [],
      "include_colab_link": true
    },
    "kernelspec": {
      "name": "python3",
      "display_name": "Python 3"
    }
  },
  "cells": [
    {
      "cell_type": "markdown",
      "metadata": {
        "id": "view-in-github",
        "colab_type": "text"
      },
      "source": [
        "<a href=\"https://colab.research.google.com/github/bam396/nyu-python-public-policy/blob/master/HW4_old.ipynb\" target=\"_parent\"><img src=\"https://colab.research.google.com/assets/colab-badge.svg\" alt=\"Open In Colab\"/></a>"
      ]
    },
    {
      "cell_type": "markdown",
      "metadata": {
        "id": "N0yvnxgZf4ni",
        "colab_type": "text"
      },
      "source": [
        "# HOMEWORK 4 Coding: Analyzing and visualizing specific categories of 311 complaints\n",
        "\n",
        "Create a new Google Colab notebook called \"HW4\".\n",
        "\n",
        "**Problem Statement:** When comparing total 311 request counts per community district against the respective population, there seems to be a general trend that the higher the population, the higher the number of 311 requests. However, there is a lot of variance in the data. Maybe narrowing in on specific complaint type categories will help us better understand trends in 311 requests across the city.\n",
        "\n",
        "\"Noise\" and \"heat and hot water\" were the most frequest requests in the entire 311 dataset. Let's try isolating the count of requests in each of those two categories versus all the other complaints."
      ]
    },
    {
      "cell_type": "markdown",
      "metadata": {
        "id": "6KeYUm8mgN33",
        "colab_type": "text"
      },
      "source": [
        "**Step 1.** First you will need to prep your data to get the count of complaints in each of the three categories. "
      ]
    },
    {
      "cell_type": "code",
      "metadata": {
        "id": "grD1G9PBf01X",
        "colab_type": "code",
        "colab": {}
      },
      "source": [
        "import pandas as pd\n",
        "from google.colab import drive"
      ],
      "execution_count": 0,
      "outputs": []
    },
    {
      "cell_type": "code",
      "metadata": {
        "id": "wp1VQgUPg63F",
        "colab_type": "code",
        "colab": {}
      },
      "source": [
        "import matplotlib.pyplot as plt \n",
        "import numpy as np"
      ],
      "execution_count": 0,
      "outputs": []
    },
    {
      "cell_type": "code",
      "metadata": {
        "id": "jNFwPmfSg8IJ",
        "colab_type": "code",
        "colab": {}
      },
      "source": [
        "# You can use pd.set_option() to make sure you see all the rows and columns in your dataframe\n",
        "pd.set_option('display.max_columns', None)\n",
        "pd.set_option('display.max_rows', None)"
      ],
      "execution_count": 0,
      "outputs": []
    },
    {
      "cell_type": "code",
      "metadata": {
        "id": "yRzboTETg-kL",
        "colab_type": "code",
        "outputId": "b393530b-f372-43b8-f961-dcaba9854a9b",
        "colab": {
          "base_uri": "https://localhost:8080/",
          "height": 122
        }
      },
      "source": [
        "drive.mount('/content/drive')\n",
        "# follow the link it generates, choose your account, and then paste in the authorization code it provides"
      ],
      "execution_count": 4,
      "outputs": [
        {
          "output_type": "stream",
          "text": [
            "Go to this URL in a browser: https://accounts.google.com/o/oauth2/auth?client_id=947318989803-6bn6qk8qdgf4n4g3pfee6491hc0brc4i.apps.googleusercontent.com&redirect_uri=urn%3aietf%3awg%3aoauth%3a2.0%3aoob&response_type=code&scope=email%20https%3a%2f%2fwww.googleapis.com%2fauth%2fdocs.test%20https%3a%2f%2fwww.googleapis.com%2fauth%2fdrive%20https%3a%2f%2fwww.googleapis.com%2fauth%2fdrive.photos.readonly%20https%3a%2f%2fwww.googleapis.com%2fauth%2fpeopleapi.readonly\n",
            "\n",
            "Enter your authorization code:\n",
            "··········\n",
            "Mounted at /content/drive\n"
          ],
          "name": "stdout"
        }
      ]
    },
    {
      "cell_type": "code",
      "metadata": {
        "id": "Dz4iDGasheja",
        "colab_type": "code",
        "outputId": "be4afa29-a5ed-4189-e4a8-7be3faad4233",
        "colab": {
          "base_uri": "https://localhost:8080/",
          "height": 51
        }
      },
      "source": [
        "df = pd.read_csv('/content/drive/My Drive/Data for Python/cleaned_311_data.csv', header='infer')"
      ],
      "execution_count": 5,
      "outputs": [
        {
          "output_type": "stream",
          "text": [
            "/usr/local/lib/python3.6/dist-packages/IPython/core/interactiveshell.py:2718: DtypeWarning: Columns (9,18,21,32,35) have mixed types. Specify dtype option on import or set low_memory=False.\n",
            "  interactivity=interactivity, compiler=compiler, result=result)\n"
          ],
          "name": "stderr"
        }
      ]
    },
    {
      "cell_type": "markdown",
      "metadata": {
        "id": "FARdkMIVLQWM",
        "colab_type": "text"
      },
      "source": [
        "You can update the code from lecture that gets the total count of 311 requests per CD to instead get the count of 311 requests per CD that meet the criteria for the 3 categories. You should create three seprate dataframes, one per category:\n",
        "1.   complaint_type = 'Noise - Residential'\n",
        "2.   complaint_type = 'HEAT/HOT WATER'\n",
        "3.   Everything else: (complaint_type != 'Noise - Residential' and complaint_type != 'HEAT/HOT WATER')"
      ]
    },
    {
      "cell_type": "code",
      "metadata": {
        "id": "xxisjJm5NUk3",
        "colab_type": "code",
        "colab": {}
      },
      "source": [
        "df['complaint_type'] = df['complaint_type'].str.lower()"
      ],
      "execution_count": 0,
      "outputs": []
    },
    {
      "cell_type": "code",
      "metadata": {
        "id": "SHs4NpCuac2o",
        "colab_type": "code",
        "outputId": "47ba80a0-7b20-4484-ba1f-40cc46cf1b7a",
        "colab": {
          "base_uri": "https://localhost:8080/",
          "height": 1000
        }
      },
      "source": [
        "cb_counts = df.groupby('community_board').size().reset_index(name='count_of_311_requests')\n",
        "print(cb_counts)"
      ],
      "execution_count": 7,
      "outputs": [
        {
          "output_type": "stream",
          "text": [
            "              community_board  count_of_311_requests\n",
            "0               0 Unspecified                  39385\n",
            "1                    01 BRONX                  27353\n",
            "2                 01 BROOKLYN                  68101\n",
            "3                01 MANHATTAN                  21259\n",
            "4                   01 QUEENS                  60425\n",
            "5            01 STATEN ISLAND                  65145\n",
            "6                    02 BRONX                  20039\n",
            "7                 02 BROOKLYN                  44061\n",
            "8                02 MANHATTAN                  36688\n",
            "9                   02 QUEENS                  35238\n",
            "10           02 STATEN ISLAND                  40179\n",
            "11                   03 BRONX                  29738\n",
            "12                03 BROOKLYN                  66360\n",
            "13               03 MANHATTAN                  51399\n",
            "14                  03 QUEENS                  39240\n",
            "15           03 STATEN ISLAND                  48729\n",
            "16                   04 BRONX                  61086\n",
            "17                04 BROOKLYN                  49552\n",
            "18               04 MANHATTAN                  38819\n",
            "19                  04 QUEENS                  33501\n",
            "20                   05 BRONX                  51820\n",
            "21                05 BROOKLYN                  61836\n",
            "22               05 MANHATTAN                  37466\n",
            "23                  05 QUEENS                  71506\n",
            "24                   06 BRONX                  32439\n",
            "25                06 BROOKLYN                  42539\n",
            "26               06 MANHATTAN                  29874\n",
            "27                  06 QUEENS                  26407\n",
            "28                   07 BRONX                  55735\n",
            "29                07 BROOKLYN                  36290\n",
            "30               07 MANHATTAN                  46230\n",
            "31                  07 QUEENS                  63634\n",
            "32                   08 BRONX                  32807\n",
            "33                08 BROOKLYN                  43872\n",
            "34               08 MANHATTAN                  38327\n",
            "35                  08 QUEENS                  49221\n",
            "36                   09 BRONX                  46044\n",
            "37                09 BROOKLYN                  42655\n",
            "38               09 MANHATTAN                  39260\n",
            "39                  09 QUEENS                  54421\n",
            "40                   10 BRONX                  32879\n",
            "41                10 BROOKLYN                  43990\n",
            "42               10 MANHATTAN                  50024\n",
            "43                  10 QUEENS                  48707\n",
            "44                   11 BRONX                  37505\n",
            "45                11 BROOKLYN                  52801\n",
            "46               11 MANHATTAN                  32428\n",
            "47                  11 QUEENS                  32628\n",
            "48                   12 BRONX                  53688\n",
            "49                12 BROOKLYN                  46420\n",
            "50               12 MANHATTAN                  81402\n",
            "51                  12 QUEENS                  70361\n",
            "52                13 BROOKLYN                  22156\n",
            "53                  13 QUEENS                  54003\n",
            "54                14 BROOKLYN                  57194\n",
            "55                  14 QUEENS                  30350\n",
            "56                15 BROOKLYN                  48739\n",
            "57                16 BROOKLYN                  28742\n",
            "58                17 BROOKLYN                  58864\n",
            "59                18 BROOKLYN                  54523\n",
            "60                   26 BRONX                    163\n",
            "61                   27 BRONX                    105\n",
            "62                   28 BRONX                    134\n",
            "63                55 BROOKLYN                    365\n",
            "64                56 BROOKLYN                     88\n",
            "65               64 MANHATTAN                    723\n",
            "66                  80 QUEENS                    582\n",
            "67                  81 QUEENS                    239\n",
            "68                  82 QUEENS                    452\n",
            "69                  83 QUEENS                   1100\n",
            "70                  84 QUEENS                     67\n",
            "71           95 STATEN ISLAND                    115\n",
            "72          Unspecified BRONX                  30591\n",
            "73       Unspecified BROOKLYN                  38959\n",
            "74      Unspecified MANHATTAN                  37652\n",
            "75         Unspecified QUEENS                  28459\n",
            "76  Unspecified STATEN ISLAND                   3133\n"
          ],
          "name": "stdout"
        }
      ]
    },
    {
      "cell_type": "code",
      "metadata": {
        "id": "wgxfFlsScyF2",
        "colab_type": "code",
        "colab": {}
      },
      "source": [
        "def recode_borocd_counts(row):\n",
        "    if row.community_board[0] != 'U':\n",
        "      if 'MANHATTAN' in row.community_board:\n",
        "        return '1' + row.community_board[:2]\n",
        "      elif 'BRONX' in row.community_board:\n",
        "        return '2' + row.community_board[:2]\n",
        "      elif 'BROOKLYN' in row.community_board:\n",
        "        return '3' + row.community_board[:2]\n",
        "      elif 'QUEENS' in row.community_board:\n",
        "        return '4' + row.community_board[:2]\n",
        "      elif 'STATEN ISLAND' in row.community_board:\n",
        "        return '5' + row.community_board[:2]\n",
        "    else:\n",
        "      return 'Invalid borocd'\n",
        "\n",
        "df['borocd'] = df.apply(recode_borocd_counts, axis=1)"
      ],
      "execution_count": 0,
      "outputs": []
    },
    {
      "cell_type": "code",
      "metadata": {
        "id": "oCvu4aklcXXx",
        "colab_type": "code",
        "colab": {}
      },
      "source": [
        "\n",
        "# this function will recode the community_board value into borocd in a new column\n",
        "  def recode_borocd_counts(row):\n",
        "    if row.community_board[0] != 'U':\n",
        "      if 'MANHATTAN' in row.community_board:\n",
        "        return '1' + row.community_board[:2]\n",
        "      elif 'BRONX' in row.community_board:\n",
        "        return '2' + row.community_board[:2]\n",
        "      elif 'BROOKLYN' in row.community_board:\n",
        "        return '3' + row.community_board[:2]\n",
        "      elif 'QUEENS' in row.community_board:\n",
        "        return '4' + row.community_board[:2]\n",
        "      elif 'STATEN ISLAND' in row.community_board:\n",
        "        return '5' + row.community_board[:2]\n",
        "    else:\n",
        "      return 'Invalid borocd'\n",
        "\n",
        "cb_counts['borocd'] = cb_counts.apply(recode_borocd_counts, axis=1)"
      ],
      "execution_count": 0,
      "outputs": []
    },
    {
      "cell_type": "code",
      "metadata": {
        "id": "DqyFemgFcmK8",
        "colab_type": "code",
        "colab": {
          "base_uri": "https://localhost:8080/",
          "height": 411
        },
        "outputId": "2e751779-5024-4304-a996-5c1818c3e051"
      },
      "source": [
        "merged_data = pd.merge(left=cb_counts, right=df, left_on=['borocd','community_board'], right_on=['borocd','community_board'])\n",
        "#checking column names\n",
        "merged_data.head()"
      ],
      "execution_count": 18,
      "outputs": [
        {
          "output_type": "execute_result",
          "data": {
            "text/html": [
              "<div>\n",
              "<style scoped>\n",
              "    .dataframe tbody tr th:only-of-type {\n",
              "        vertical-align: middle;\n",
              "    }\n",
              "\n",
              "    .dataframe tbody tr th {\n",
              "        vertical-align: top;\n",
              "    }\n",
              "\n",
              "    .dataframe thead th {\n",
              "        text-align: right;\n",
              "    }\n",
              "</style>\n",
              "<table border=\"1\" class=\"dataframe\">\n",
              "  <thead>\n",
              "    <tr style=\"text-align: right;\">\n",
              "      <th></th>\n",
              "      <th>community_board</th>\n",
              "      <th>count_of_311_requests</th>\n",
              "      <th>borocd</th>\n",
              "      <th>Unnamed: 0</th>\n",
              "      <th>unique_key</th>\n",
              "      <th>created_date</th>\n",
              "      <th>closed_date</th>\n",
              "      <th>agency</th>\n",
              "      <th>agency_name</th>\n",
              "      <th>complaint_type</th>\n",
              "      <th>descriptor</th>\n",
              "      <th>location_type</th>\n",
              "      <th>incident_zip</th>\n",
              "      <th>incident_address</th>\n",
              "      <th>street_name</th>\n",
              "      <th>cross_street_1</th>\n",
              "      <th>cross_street_2</th>\n",
              "      <th>intersection_street_1</th>\n",
              "      <th>intersection_street_2</th>\n",
              "      <th>address_type</th>\n",
              "      <th>city</th>\n",
              "      <th>landmark</th>\n",
              "      <th>facility_type</th>\n",
              "      <th>status</th>\n",
              "      <th>due_date</th>\n",
              "      <th>resolution_description</th>\n",
              "      <th>resolution_action_updated_date</th>\n",
              "      <th>bbl</th>\n",
              "      <th>borough</th>\n",
              "      <th>x_coordinate_(state_plane)</th>\n",
              "      <th>y_coordinate_(state_plane)</th>\n",
              "      <th>open_data_channel_type</th>\n",
              "      <th>park_facility_name</th>\n",
              "      <th>park_borough</th>\n",
              "      <th>vehicle_type</th>\n",
              "      <th>taxi_company_borough</th>\n",
              "      <th>taxi_pick_up_location</th>\n",
              "      <th>bridge_highway_name</th>\n",
              "      <th>bridge_highway_direction</th>\n",
              "      <th>road_ramp</th>\n",
              "      <th>bridge_highway_segment</th>\n",
              "      <th>latitude</th>\n",
              "      <th>longitude</th>\n",
              "      <th>location</th>\n",
              "    </tr>\n",
              "  </thead>\n",
              "  <tbody>\n",
              "    <tr>\n",
              "      <th>0</th>\n",
              "      <td>0 Unspecified</td>\n",
              "      <td>39385</td>\n",
              "      <td>None</td>\n",
              "      <td>10</td>\n",
              "      <td>39886684</td>\n",
              "      <td>08/01/2018 12:03:55 AM</td>\n",
              "      <td>08/01/2018 01:22:36 PM</td>\n",
              "      <td>NYPD</td>\n",
              "      <td>New York City Police Department</td>\n",
              "      <td>noise - street/sidewalk</td>\n",
              "      <td>Loud Music/Party</td>\n",
              "      <td>Street/Sidewalk</td>\n",
              "      <td>NaN</td>\n",
              "      <td>240 FLATBUSH AVENUE</td>\n",
              "      <td>FLATBUSH AVENUE</td>\n",
              "      <td>NaN</td>\n",
              "      <td>NaN</td>\n",
              "      <td>NaN</td>\n",
              "      <td>NaN</td>\n",
              "      <td>NaN</td>\n",
              "      <td>NaN</td>\n",
              "      <td>NaN</td>\n",
              "      <td>Precinct</td>\n",
              "      <td>Closed</td>\n",
              "      <td>08/01/2018 08:03:55 AM</td>\n",
              "      <td>The Police Department responded to the complai...</td>\n",
              "      <td>08/01/2018 01:22:36 PM</td>\n",
              "      <td>NaN</td>\n",
              "      <td>Unspecified</td>\n",
              "      <td>NaN</td>\n",
              "      <td>NaN</td>\n",
              "      <td>MOBILE</td>\n",
              "      <td>Unspecified</td>\n",
              "      <td>Unspecified</td>\n",
              "      <td>NaN</td>\n",
              "      <td>NaN</td>\n",
              "      <td>NaN</td>\n",
              "      <td>NaN</td>\n",
              "      <td>NaN</td>\n",
              "      <td>NaN</td>\n",
              "      <td>NaN</td>\n",
              "      <td>NaN</td>\n",
              "      <td>NaN</td>\n",
              "      <td>NaN</td>\n",
              "    </tr>\n",
              "    <tr>\n",
              "      <th>1</th>\n",
              "      <td>0 Unspecified</td>\n",
              "      <td>39385</td>\n",
              "      <td>None</td>\n",
              "      <td>24</td>\n",
              "      <td>39880125</td>\n",
              "      <td>08/01/2018 12:07:26 AM</td>\n",
              "      <td>08/01/2018 12:08:22 AM</td>\n",
              "      <td>HRA</td>\n",
              "      <td>HRA Benefit Card Replacement</td>\n",
              "      <td>benefit card replacement</td>\n",
              "      <td>Medicaid</td>\n",
              "      <td>Address Outside of NYC</td>\n",
              "      <td>NaN</td>\n",
              "      <td>NaN</td>\n",
              "      <td>NaN</td>\n",
              "      <td>NaN</td>\n",
              "      <td>NaN</td>\n",
              "      <td>NaN</td>\n",
              "      <td>NaN</td>\n",
              "      <td>NaN</td>\n",
              "      <td>NaN</td>\n",
              "      <td>NaN</td>\n",
              "      <td>NaN</td>\n",
              "      <td>Closed</td>\n",
              "      <td>NaN</td>\n",
              "      <td>The Human Resources Administration received yo...</td>\n",
              "      <td>NaN</td>\n",
              "      <td>NaN</td>\n",
              "      <td>Unspecified</td>\n",
              "      <td>NaN</td>\n",
              "      <td>NaN</td>\n",
              "      <td>ONLINE</td>\n",
              "      <td>Unspecified</td>\n",
              "      <td>Unspecified</td>\n",
              "      <td>NaN</td>\n",
              "      <td>NaN</td>\n",
              "      <td>NaN</td>\n",
              "      <td>NaN</td>\n",
              "      <td>NaN</td>\n",
              "      <td>NaN</td>\n",
              "      <td>NaN</td>\n",
              "      <td>NaN</td>\n",
              "      <td>NaN</td>\n",
              "      <td>NaN</td>\n",
              "    </tr>\n",
              "    <tr>\n",
              "      <th>2</th>\n",
              "      <td>0 Unspecified</td>\n",
              "      <td>39385</td>\n",
              "      <td>None</td>\n",
              "      <td>238</td>\n",
              "      <td>39887282</td>\n",
              "      <td>08/01/2018 01:42:01 AM</td>\n",
              "      <td>08/14/2018 02:42:12 PM</td>\n",
              "      <td>DPR</td>\n",
              "      <td>Department of Parks and Recreation</td>\n",
              "      <td>maintenance or facility</td>\n",
              "      <td>Structure - Outdoors</td>\n",
              "      <td>Park</td>\n",
              "      <td>10003</td>\n",
              "      <td>NaN</td>\n",
              "      <td>NaN</td>\n",
              "      <td>NaN</td>\n",
              "      <td>NaN</td>\n",
              "      <td>NaN</td>\n",
              "      <td>NaN</td>\n",
              "      <td>NaN</td>\n",
              "      <td>NEW YORK</td>\n",
              "      <td>NaN</td>\n",
              "      <td>NaN</td>\n",
              "      <td>Closed</td>\n",
              "      <td>08/15/2018 01:42:01 AM</td>\n",
              "      <td>The Department of Parks and Recreation has com...</td>\n",
              "      <td>08/14/2018 02:42:12 PM</td>\n",
              "      <td>NaN</td>\n",
              "      <td>Unspecified</td>\n",
              "      <td>NaN</td>\n",
              "      <td>NaN</td>\n",
              "      <td>PHONE</td>\n",
              "      <td>First Park</td>\n",
              "      <td>Unspecified</td>\n",
              "      <td>NaN</td>\n",
              "      <td>NaN</td>\n",
              "      <td>NaN</td>\n",
              "      <td>NaN</td>\n",
              "      <td>NaN</td>\n",
              "      <td>NaN</td>\n",
              "      <td>NaN</td>\n",
              "      <td>NaN</td>\n",
              "      <td>NaN</td>\n",
              "      <td>NaN</td>\n",
              "    </tr>\n",
              "    <tr>\n",
              "      <th>3</th>\n",
              "      <td>0 Unspecified</td>\n",
              "      <td>39385</td>\n",
              "      <td>None</td>\n",
              "      <td>262</td>\n",
              "      <td>39879188</td>\n",
              "      <td>08/01/2018 01:54:36 AM</td>\n",
              "      <td>08/01/2018 01:55:09 AM</td>\n",
              "      <td>HRA</td>\n",
              "      <td>HRA Benefit Card Replacement</td>\n",
              "      <td>benefit card replacement</td>\n",
              "      <td>Medicaid</td>\n",
              "      <td>NYC Street Address</td>\n",
              "      <td>NaN</td>\n",
              "      <td>NaN</td>\n",
              "      <td>NaN</td>\n",
              "      <td>NaN</td>\n",
              "      <td>NaN</td>\n",
              "      <td>NaN</td>\n",
              "      <td>NaN</td>\n",
              "      <td>NaN</td>\n",
              "      <td>NaN</td>\n",
              "      <td>NaN</td>\n",
              "      <td>NaN</td>\n",
              "      <td>Closed</td>\n",
              "      <td>NaN</td>\n",
              "      <td>The Human Resources Administration received yo...</td>\n",
              "      <td>NaN</td>\n",
              "      <td>NaN</td>\n",
              "      <td>Unspecified</td>\n",
              "      <td>NaN</td>\n",
              "      <td>NaN</td>\n",
              "      <td>ONLINE</td>\n",
              "      <td>Unspecified</td>\n",
              "      <td>Unspecified</td>\n",
              "      <td>NaN</td>\n",
              "      <td>NaN</td>\n",
              "      <td>NaN</td>\n",
              "      <td>NaN</td>\n",
              "      <td>NaN</td>\n",
              "      <td>NaN</td>\n",
              "      <td>NaN</td>\n",
              "      <td>NaN</td>\n",
              "      <td>NaN</td>\n",
              "      <td>NaN</td>\n",
              "    </tr>\n",
              "    <tr>\n",
              "      <th>4</th>\n",
              "      <td>0 Unspecified</td>\n",
              "      <td>39385</td>\n",
              "      <td>None</td>\n",
              "      <td>270</td>\n",
              "      <td>39880610</td>\n",
              "      <td>08/01/2018 01:58:27 AM</td>\n",
              "      <td>08/01/2018 03:06:18 PM</td>\n",
              "      <td>DOT</td>\n",
              "      <td>Department of Transportation</td>\n",
              "      <td>street sign - missing</td>\n",
              "      <td>St Name - Attached to Pole</td>\n",
              "      <td>Street</td>\n",
              "      <td>NaN</td>\n",
              "      <td>HORACE HARDING EXPRESSWAY</td>\n",
              "      <td>HORACE HARDING EXPRESSWAY</td>\n",
              "      <td>254 STREET</td>\n",
              "      <td>NaN</td>\n",
              "      <td>254 STREET</td>\n",
              "      <td>NaN</td>\n",
              "      <td>NaN</td>\n",
              "      <td>NaN</td>\n",
              "      <td>NaN</td>\n",
              "      <td>NaN</td>\n",
              "      <td>Closed</td>\n",
              "      <td>08/31/2018 01:58:27 AM</td>\n",
              "      <td>The Department of Transportation inspected the...</td>\n",
              "      <td>08/01/2018 03:06:18 PM</td>\n",
              "      <td>NaN</td>\n",
              "      <td>Unspecified</td>\n",
              "      <td>NaN</td>\n",
              "      <td>NaN</td>\n",
              "      <td>ONLINE</td>\n",
              "      <td>Unspecified</td>\n",
              "      <td>Unspecified</td>\n",
              "      <td>NaN</td>\n",
              "      <td>NaN</td>\n",
              "      <td>NaN</td>\n",
              "      <td>NaN</td>\n",
              "      <td>NaN</td>\n",
              "      <td>NaN</td>\n",
              "      <td>NaN</td>\n",
              "      <td>NaN</td>\n",
              "      <td>NaN</td>\n",
              "      <td>NaN</td>\n",
              "    </tr>\n",
              "  </tbody>\n",
              "</table>\n",
              "</div>"
            ],
            "text/plain": [
              "  community_board  count_of_311_requests borocd  Unnamed: 0  unique_key  \\\n",
              "0   0 Unspecified                  39385   None          10    39886684   \n",
              "1   0 Unspecified                  39385   None          24    39880125   \n",
              "2   0 Unspecified                  39385   None         238    39887282   \n",
              "3   0 Unspecified                  39385   None         262    39879188   \n",
              "4   0 Unspecified                  39385   None         270    39880610   \n",
              "\n",
              "             created_date             closed_date agency  \\\n",
              "0  08/01/2018 12:03:55 AM  08/01/2018 01:22:36 PM   NYPD   \n",
              "1  08/01/2018 12:07:26 AM  08/01/2018 12:08:22 AM    HRA   \n",
              "2  08/01/2018 01:42:01 AM  08/14/2018 02:42:12 PM    DPR   \n",
              "3  08/01/2018 01:54:36 AM  08/01/2018 01:55:09 AM    HRA   \n",
              "4  08/01/2018 01:58:27 AM  08/01/2018 03:06:18 PM    DOT   \n",
              "\n",
              "                          agency_name            complaint_type  \\\n",
              "0     New York City Police Department   noise - street/sidewalk   \n",
              "1        HRA Benefit Card Replacement  benefit card replacement   \n",
              "2  Department of Parks and Recreation   maintenance or facility   \n",
              "3        HRA Benefit Card Replacement  benefit card replacement   \n",
              "4        Department of Transportation     street sign - missing   \n",
              "\n",
              "                   descriptor           location_type incident_zip  \\\n",
              "0            Loud Music/Party         Street/Sidewalk          NaN   \n",
              "1                    Medicaid  Address Outside of NYC          NaN   \n",
              "2        Structure - Outdoors                    Park        10003   \n",
              "3                    Medicaid      NYC Street Address          NaN   \n",
              "4  St Name - Attached to Pole                  Street          NaN   \n",
              "\n",
              "            incident_address                street_name cross_street_1  \\\n",
              "0        240 FLATBUSH AVENUE            FLATBUSH AVENUE            NaN   \n",
              "1                        NaN                        NaN            NaN   \n",
              "2                        NaN                        NaN            NaN   \n",
              "3                        NaN                        NaN            NaN   \n",
              "4  HORACE HARDING EXPRESSWAY  HORACE HARDING EXPRESSWAY     254 STREET   \n",
              "\n",
              "  cross_street_2 intersection_street_1 intersection_street_2 address_type  \\\n",
              "0            NaN                   NaN                   NaN          NaN   \n",
              "1            NaN                   NaN                   NaN          NaN   \n",
              "2            NaN                   NaN                   NaN          NaN   \n",
              "3            NaN                   NaN                   NaN          NaN   \n",
              "4            NaN            254 STREET                   NaN          NaN   \n",
              "\n",
              "       city landmark facility_type  status                due_date  \\\n",
              "0       NaN      NaN      Precinct  Closed  08/01/2018 08:03:55 AM   \n",
              "1       NaN      NaN           NaN  Closed                     NaN   \n",
              "2  NEW YORK      NaN           NaN  Closed  08/15/2018 01:42:01 AM   \n",
              "3       NaN      NaN           NaN  Closed                     NaN   \n",
              "4       NaN      NaN           NaN  Closed  08/31/2018 01:58:27 AM   \n",
              "\n",
              "                              resolution_description  \\\n",
              "0  The Police Department responded to the complai...   \n",
              "1  The Human Resources Administration received yo...   \n",
              "2  The Department of Parks and Recreation has com...   \n",
              "3  The Human Resources Administration received yo...   \n",
              "4  The Department of Transportation inspected the...   \n",
              "\n",
              "  resolution_action_updated_date  bbl      borough  \\\n",
              "0         08/01/2018 01:22:36 PM  NaN  Unspecified   \n",
              "1                            NaN  NaN  Unspecified   \n",
              "2         08/14/2018 02:42:12 PM  NaN  Unspecified   \n",
              "3                            NaN  NaN  Unspecified   \n",
              "4         08/01/2018 03:06:18 PM  NaN  Unspecified   \n",
              "\n",
              "   x_coordinate_(state_plane)  y_coordinate_(state_plane)  \\\n",
              "0                         NaN                         NaN   \n",
              "1                         NaN                         NaN   \n",
              "2                         NaN                         NaN   \n",
              "3                         NaN                         NaN   \n",
              "4                         NaN                         NaN   \n",
              "\n",
              "  open_data_channel_type park_facility_name park_borough vehicle_type  \\\n",
              "0                 MOBILE        Unspecified  Unspecified          NaN   \n",
              "1                 ONLINE        Unspecified  Unspecified          NaN   \n",
              "2                  PHONE         First Park  Unspecified          NaN   \n",
              "3                 ONLINE        Unspecified  Unspecified          NaN   \n",
              "4                 ONLINE        Unspecified  Unspecified          NaN   \n",
              "\n",
              "  taxi_company_borough taxi_pick_up_location bridge_highway_name  \\\n",
              "0                  NaN                   NaN                 NaN   \n",
              "1                  NaN                   NaN                 NaN   \n",
              "2                  NaN                   NaN                 NaN   \n",
              "3                  NaN                   NaN                 NaN   \n",
              "4                  NaN                   NaN                 NaN   \n",
              "\n",
              "  bridge_highway_direction road_ramp bridge_highway_segment  latitude  \\\n",
              "0                      NaN       NaN                    NaN       NaN   \n",
              "1                      NaN       NaN                    NaN       NaN   \n",
              "2                      NaN       NaN                    NaN       NaN   \n",
              "3                      NaN       NaN                    NaN       NaN   \n",
              "4                      NaN       NaN                    NaN       NaN   \n",
              "\n",
              "   longitude location  \n",
              "0        NaN      NaN  \n",
              "1        NaN      NaN  \n",
              "2        NaN      NaN  \n",
              "3        NaN      NaN  \n",
              "4        NaN      NaN  "
            ]
          },
          "metadata": {
            "tags": []
          },
          "execution_count": 18
        }
      ]
    },
    {
      "cell_type": "code",
      "metadata": {
        "id": "4Y1DGVicbMou",
        "colab_type": "code",
        "outputId": "8fa20635-9b6f-4e04-a37a-3136865d328a",
        "colab": {
          "base_uri": "https://localhost:8080/",
          "height": 34
        }
      },
      "source": [
        "merged_data_noise = merged_data[merged_data.complaint_type=='noise - residential']\n",
        "merged_data_noise = merged_data_noise.groupby('community_board').size().reset_index(name='count_of_311_requests')\n",
        "#checking code\n",
        "print(len(merged_data_noise))"
      ],
      "execution_count": 19,
      "outputs": [
        {
          "output_type": "stream",
          "text": [
            "69\n"
          ],
          "name": "stdout"
        }
      ]
    },
    {
      "cell_type": "code",
      "metadata": {
        "id": "V0cdtcxJRZpe",
        "colab_type": "code",
        "outputId": "f1c51b09-ccbf-4c51-8353-3f0ed50685db",
        "colab": {
          "base_uri": "https://localhost:8080/",
          "height": 34
        }
      },
      "source": [
        "merged_data_heat = merged_data[merged_data.complaint_type=='heat/hot water']\n",
        "merged_data_heat = merged_data_heat.groupby('community_board').size().reset_index(name='count_of_311_requests')\n",
        "#checking code\n",
        "print(len(merged_data_heat))"
      ],
      "execution_count": 20,
      "outputs": [
        {
          "output_type": "stream",
          "text": [
            "66\n"
          ],
          "name": "stdout"
        }
      ]
    },
    {
      "cell_type": "code",
      "metadata": {
        "id": "Dz3MLSFERo1y",
        "colab_type": "code",
        "outputId": "d9f1d3b9-8a24-4895-cb3b-f68ae19aed97",
        "colab": {
          "base_uri": "https://localhost:8080/",
          "height": 68
        }
      },
      "source": [
        "merged_data_else = merged_data[merged_data.complaint_type != 'noise - residential'][merged_data.complaint_type != 'heat/hot water']\n",
        "merged_data_else = merged_data_else.groupby('community_board').size().reset_index(name='count_of_311_requests')\n",
        "#checking code\n",
        "print(len(merged_data_else))"
      ],
      "execution_count": 21,
      "outputs": [
        {
          "output_type": "stream",
          "text": [
            "/usr/local/lib/python3.6/dist-packages/ipykernel_launcher.py:1: UserWarning: Boolean Series key will be reindexed to match DataFrame index.\n",
            "  \"\"\"Entry point for launching an IPython kernel.\n"
          ],
          "name": "stderr"
        },
        {
          "output_type": "stream",
          "text": [
            "77\n"
          ],
          "name": "stdout"
        }
      ]
    },
    {
      "cell_type": "code",
      "metadata": {
        "id": "KoJ4BIehqVfF",
        "colab_type": "code",
        "colab": {
          "base_uri": "https://localhost:8080/",
          "height": 34
        },
        "outputId": "0e52d7e2-eafe-4e6f-b695-4944bc392de9"
      },
      "source": [
        "# per the starter template, checking all\n",
        "merged_data_all = merged_data.groupby('community_board').size().reset_index(name='count_of_311_requests')\n",
        "#checking code\n",
        "print(len(merged_data_all))"
      ],
      "execution_count": 22,
      "outputs": [
        {
          "output_type": "stream",
          "text": [
            "77\n"
          ],
          "name": "stdout"
        }
      ]
    },
    {
      "cell_type": "markdown",
      "metadata": {
        "id": "8VTRfop7Y9br",
        "colab_type": "text"
      },
      "source": [
        "**Step 2.** Create a stacked bar chart comprised of three stacked bars. The total height of each bar (the sum of the three stacked bars) should reflect the total count of 311 complaints per CD.\n",
        "\n",
        "1. number of 'Noise - Residential' complaints per CD\n",
        "2. number of 'HEAT/HOT WATER' complaints per CD\n",
        "3. number of other complaints per CD"
      ]
    },
    {
      "cell_type": "code",
      "metadata": {
        "id": "OI4ktrWAZv3S",
        "colab_type": "code",
        "colab": {}
      },
      "source": [
        "# list of bar positions on x axis\n",
        "position_on_x = np.arange(len(cd_data))\n",
        "\n",
        "# original set of counts data\n",
        "# note: it's important to use np.array(series) to convert the pandas series into an array. \n",
        "# if you don't do this, the stacking won't work corectly\n",
        "counts = np.array(cd_data.sort_values(by='count_of_311_requests', ascending=False).count_of_311_requests)\n",
        "\n",
        "# creating an array (aka list) of test data so we can easily visualize how the stacking works\n",
        "test_counts = np.full(len(cd_data),20000)\n",
        "\n",
        "plt.figure(figsize=(15, 6))\n",
        "\n",
        "# need to name the plots as objects in order to access their color attributes in the legend\n",
        "plot1 = plt.bar(\n",
        "  position_on_x,\n",
        "  test_counts,\n",
        "  align='center',\n",
        "  color='blue',\n",
        "  label='Test Count'\n",
        ")\n",
        "# the second plot gets rendered on top of the first\n",
        "plot2 = plt.bar(\n",
        "  position_on_x,\n",
        "  counts,\n",
        "  bottom=test_counts, \n",
        "  # bottom defines the starting number to which each y value will be added instead of starting at 0\n",
        "  # the counts value will get added to the corresponding counts_plus_10000 value\n",
        "  align='center',\n",
        "  color='cyan',\n",
        "  label='Original Count'\n",
        ")\n",
        "plt.xticks(position_on_x, cd_data.sort_values(by='count_of_311_requests', ascending=False).borocd, rotation=90)\n",
        "\n",
        "plt.title('Count of 311 Requests per Community District')\n",
        "plt.xlabel('BoroCD')\n",
        "plt.ylabel('# of Requests')\n",
        "plt.legend() # defaults to putting legend in top right\n",
        "\n",
        "plt.show()"
      ],
      "execution_count": 0,
      "outputs": []
    }
  ]
}