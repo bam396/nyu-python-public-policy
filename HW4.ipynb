{
  "nbformat": 4,
  "nbformat_minor": 0,
  "metadata": {
    "colab": {
      "name": "HW4",
      "provenance": [],
      "collapsed_sections": [],
      "include_colab_link": true
    },
    "kernelspec": {
      "name": "python3",
      "display_name": "Python 3"
    }
  },
  "cells": [
    {
      "cell_type": "markdown",
      "metadata": {
        "id": "view-in-github",
        "colab_type": "text"
      },
      "source": [
        "<a href=\"https://colab.research.google.com/github/bam396/nyu-python-public-policy/blob/master/HW4.ipynb\" target=\"_parent\"><img src=\"https://colab.research.google.com/assets/colab-badge.svg\" alt=\"Open In Colab\"/></a>"
      ]
    },
    {
      "cell_type": "markdown",
      "metadata": {
        "id": "N0yvnxgZf4ni",
        "colab_type": "text"
      },
      "source": [
        "# HOMEWORK 4 Coding: Analyzing and visualizing specific categories of 311 complaints\n",
        "\n",
        "Create a new Google Colab notebook called \"HW4\".\n",
        "\n",
        "**Problem Statement:** When comparing total 311 request counts per community district against the respective population, there seems to be a general trend that the higher the population, the higher the number of 311 requests. However, there is a lot of variance in the data. Maybe narrowing in on specific complaint type categories will help us better understand trends in 311 requests across the city.\n",
        "\n",
        "\"Noise\" and \"heat and hot water\" were the most frequest requests in the entire 311 dataset. Let's try isolating the count of requests in each of those two categories versus all the other complaints."
      ]
    },
    {
      "cell_type": "markdown",
      "metadata": {
        "id": "6KeYUm8mgN33",
        "colab_type": "text"
      },
      "source": [
        "**Step 1.** First you will need to prep your data to get the count of complaints in each of the three categories. "
      ]
    },
    {
      "cell_type": "code",
      "metadata": {
        "id": "grD1G9PBf01X",
        "colab_type": "code",
        "colab": {}
      },
      "source": [
        "import pandas as pd\n",
        "from google.colab import drive"
      ],
      "execution_count": 0,
      "outputs": []
    },
    {
      "cell_type": "code",
      "metadata": {
        "id": "wp1VQgUPg63F",
        "colab_type": "code",
        "colab": {}
      },
      "source": [
        "import matplotlib.pyplot as plt \n",
        "import numpy as np"
      ],
      "execution_count": 0,
      "outputs": []
    },
    {
      "cell_type": "code",
      "metadata": {
        "id": "jNFwPmfSg8IJ",
        "colab_type": "code",
        "colab": {}
      },
      "source": [
        "# You can use pd.set_option() to make sure you see all the rows and columns in your dataframe\n",
        "pd.set_option('display.max_columns', None)\n",
        "pd.set_option('display.max_rows', None)"
      ],
      "execution_count": 0,
      "outputs": []
    },
    {
      "cell_type": "code",
      "metadata": {
        "id": "yRzboTETg-kL",
        "colab_type": "code",
        "outputId": "951353a0-6de2-4dfc-eddf-c492de303a60",
        "colab": {
          "base_uri": "https://localhost:8080/",
          "height": 128
        }
      },
      "source": [
        "drive.mount('/content/drive')\n",
        "# follow the link it generates, choose your account, and then paste in the authorization code it provides"
      ],
      "execution_count": 4,
      "outputs": [
        {
          "output_type": "stream",
          "text": [
            "Go to this URL in a browser: https://accounts.google.com/o/oauth2/auth?client_id=947318989803-6bn6qk8qdgf4n4g3pfee6491hc0brc4i.apps.googleusercontent.com&redirect_uri=urn%3aietf%3awg%3aoauth%3a2.0%3aoob&response_type=code&scope=email%20https%3a%2f%2fwww.googleapis.com%2fauth%2fdocs.test%20https%3a%2f%2fwww.googleapis.com%2fauth%2fdrive%20https%3a%2f%2fwww.googleapis.com%2fauth%2fdrive.photos.readonly%20https%3a%2f%2fwww.googleapis.com%2fauth%2fpeopleapi.readonly\n",
            "\n",
            "Enter your authorization code:\n",
            "··········\n",
            "Mounted at /content/drive\n"
          ],
          "name": "stdout"
        }
      ]
    },
    {
      "cell_type": "code",
      "metadata": {
        "id": "Dz4iDGasheja",
        "colab_type": "code",
        "outputId": "4883e1a2-765b-43c6-c8ba-2654bb86f1e7",
        "colab": {
          "base_uri": "https://localhost:8080/",
          "height": 74
        }
      },
      "source": [
        "df = pd.read_csv('/content/drive/My Drive/Data for Python/cleaned_311_data.csv', header='infer')"
      ],
      "execution_count": 5,
      "outputs": [
        {
          "output_type": "stream",
          "text": [
            "/usr/local/lib/python3.6/dist-packages/IPython/core/interactiveshell.py:2718: DtypeWarning: Columns (9,18,21,32,35) have mixed types. Specify dtype option on import or set low_memory=False.\n",
            "  interactivity=interactivity, compiler=compiler, result=result)\n"
          ],
          "name": "stderr"
        }
      ]
    },
    {
      "cell_type": "markdown",
      "metadata": {
        "id": "FARdkMIVLQWM",
        "colab_type": "text"
      },
      "source": [
        "You can update the code from lecture that gets the total count of 311 requests per CD to instead get the count of 311 requests per CD that meet the criteria for the 3 categories. You should create three seprate dataframes, one per category:\n",
        "1.   complaint_type = 'Noise - Residential'\n",
        "2.   complaint_type = 'HEAT/HOT WATER'\n",
        "3.   Everything else: (complaint_type != 'Noise - Residential' and complaint_type != 'HEAT/HOT WATER')"
      ]
    },
    {
      "cell_type": "code",
      "metadata": {
        "id": "xxisjJm5NUk3",
        "colab_type": "code",
        "colab": {}
      },
      "source": [
        "df['complaint_type'] = df['complaint_type'].str.lower()"
      ],
      "execution_count": 0,
      "outputs": []
    },
    {
      "cell_type": "code",
      "metadata": {
        "id": "SHs4NpCuac2o",
        "colab_type": "code",
        "colab": {}
      },
      "source": [
        "cb_counts = df.groupby('community_board').size().reset_index(name='count_of_311_requests')"
      ],
      "execution_count": 0,
      "outputs": []
    },
    {
      "cell_type": "code",
      "metadata": {
        "id": "wgxfFlsScyF2",
        "colab_type": "code",
        "outputId": "f960b9a6-b5e4-48c5-ec9c-aeaeb899b7f5",
        "colab": {
          "base_uri": "https://localhost:8080/",
          "height": 529
        }
      },
      "source": [
        "def recode_borocd_counts(row):\n",
        "    if row.community_board[0] != 'U':\n",
        "      if 'MANHATTAN' in row.community_board:\n",
        "        return '1' + row.community_board[:2]\n",
        "      elif 'BRONX' in row.community_board:\n",
        "        return '2' + row.community_board[:2]\n",
        "      elif 'BROOKLYN' in row.community_board:\n",
        "        return '3' + row.community_board[:2]\n",
        "      elif 'QUEENS' in row.community_board:\n",
        "        return '4' + row.community_board[:2]\n",
        "      elif 'STATEN ISLAND' in row.community_board:\n",
        "        return '5' + row.community_board[:2]\n",
        "    else:\n",
        "      return 'Invalid borocd'\n",
        "\n",
        "df['borocd'] = df.apply(recode_borocd_counts, axis=1)\n",
        "\n",
        "# checking recode\n",
        "df.head()"
      ],
      "execution_count": 8,
      "outputs": [
        {
          "output_type": "execute_result",
          "data": {
            "text/html": [
              "<div>\n",
              "<style scoped>\n",
              "    .dataframe tbody tr th:only-of-type {\n",
              "        vertical-align: middle;\n",
              "    }\n",
              "\n",
              "    .dataframe tbody tr th {\n",
              "        vertical-align: top;\n",
              "    }\n",
              "\n",
              "    .dataframe thead th {\n",
              "        text-align: right;\n",
              "    }\n",
              "</style>\n",
              "<table border=\"1\" class=\"dataframe\">\n",
              "  <thead>\n",
              "    <tr style=\"text-align: right;\">\n",
              "      <th></th>\n",
              "      <th>Unnamed: 0</th>\n",
              "      <th>unique_key</th>\n",
              "      <th>created_date</th>\n",
              "      <th>closed_date</th>\n",
              "      <th>agency</th>\n",
              "      <th>agency_name</th>\n",
              "      <th>complaint_type</th>\n",
              "      <th>descriptor</th>\n",
              "      <th>location_type</th>\n",
              "      <th>incident_zip</th>\n",
              "      <th>incident_address</th>\n",
              "      <th>street_name</th>\n",
              "      <th>cross_street_1</th>\n",
              "      <th>cross_street_2</th>\n",
              "      <th>intersection_street_1</th>\n",
              "      <th>intersection_street_2</th>\n",
              "      <th>address_type</th>\n",
              "      <th>city</th>\n",
              "      <th>landmark</th>\n",
              "      <th>facility_type</th>\n",
              "      <th>status</th>\n",
              "      <th>due_date</th>\n",
              "      <th>resolution_description</th>\n",
              "      <th>resolution_action_updated_date</th>\n",
              "      <th>community_board</th>\n",
              "      <th>bbl</th>\n",
              "      <th>borough</th>\n",
              "      <th>x_coordinate_(state_plane)</th>\n",
              "      <th>y_coordinate_(state_plane)</th>\n",
              "      <th>open_data_channel_type</th>\n",
              "      <th>park_facility_name</th>\n",
              "      <th>park_borough</th>\n",
              "      <th>vehicle_type</th>\n",
              "      <th>taxi_company_borough</th>\n",
              "      <th>taxi_pick_up_location</th>\n",
              "      <th>bridge_highway_name</th>\n",
              "      <th>bridge_highway_direction</th>\n",
              "      <th>road_ramp</th>\n",
              "      <th>bridge_highway_segment</th>\n",
              "      <th>latitude</th>\n",
              "      <th>longitude</th>\n",
              "      <th>location</th>\n",
              "      <th>borocd</th>\n",
              "    </tr>\n",
              "  </thead>\n",
              "  <tbody>\n",
              "    <tr>\n",
              "      <th>0</th>\n",
              "      <td>0</td>\n",
              "      <td>39888071</td>\n",
              "      <td>08/01/2018 12:00:10 AM</td>\n",
              "      <td>08/01/2018 01:52:46 AM</td>\n",
              "      <td>DHS</td>\n",
              "      <td>Operations Unit - Department of Homeless Services</td>\n",
              "      <td>homeless person assistance</td>\n",
              "      <td>NaN</td>\n",
              "      <td>Other</td>\n",
              "      <td>10029</td>\n",
              "      <td>200 EAST  109 STREET</td>\n",
              "      <td>EAST  109 STREET</td>\n",
              "      <td>3 AVENUE</td>\n",
              "      <td>2 AVENUE</td>\n",
              "      <td>NaN</td>\n",
              "      <td>NaN</td>\n",
              "      <td>ADDRESS</td>\n",
              "      <td>NEW YORK</td>\n",
              "      <td>NaN</td>\n",
              "      <td>NaN</td>\n",
              "      <td>Closed</td>\n",
              "      <td>08/01/2018 01:00:10 AM</td>\n",
              "      <td>The mobile outreach response team offered serv...</td>\n",
              "      <td>08/01/2018 01:52:46 AM</td>\n",
              "      <td>11 MANHATTAN</td>\n",
              "      <td>1.016560e+09</td>\n",
              "      <td>MANHATTAN</td>\n",
              "      <td>1000049.0</td>\n",
              "      <td>228317.0</td>\n",
              "      <td>MOBILE</td>\n",
              "      <td>Unspecified</td>\n",
              "      <td>MANHATTAN</td>\n",
              "      <td>NaN</td>\n",
              "      <td>NaN</td>\n",
              "      <td>NaN</td>\n",
              "      <td>NaN</td>\n",
              "      <td>NaN</td>\n",
              "      <td>NaN</td>\n",
              "      <td>NaN</td>\n",
              "      <td>40.793339</td>\n",
              "      <td>-73.942942</td>\n",
              "      <td>(40.79333937834769, -73.9429417746998)</td>\n",
              "      <td>111</td>\n",
              "    </tr>\n",
              "    <tr>\n",
              "      <th>1</th>\n",
              "      <td>1</td>\n",
              "      <td>39889166</td>\n",
              "      <td>08/01/2018 12:00:26 AM</td>\n",
              "      <td>08/18/2018 10:46:43 AM</td>\n",
              "      <td>HPD</td>\n",
              "      <td>Department of Housing Preservation and Develop...</td>\n",
              "      <td>door/window</td>\n",
              "      <td>DOOR</td>\n",
              "      <td>RESIDENTIAL BUILDING</td>\n",
              "      <td>10031</td>\n",
              "      <td>528 WEST  136 STREET</td>\n",
              "      <td>WEST  136 STREET</td>\n",
              "      <td>NaN</td>\n",
              "      <td>NaN</td>\n",
              "      <td>NaN</td>\n",
              "      <td>NaN</td>\n",
              "      <td>ADDRESS</td>\n",
              "      <td>NEW YORK</td>\n",
              "      <td>NaN</td>\n",
              "      <td>NaN</td>\n",
              "      <td>Closed</td>\n",
              "      <td>NaN</td>\n",
              "      <td>The Department of Housing Preservation and Dev...</td>\n",
              "      <td>08/18/2018 10:46:43 AM</td>\n",
              "      <td>09 MANHATTAN</td>\n",
              "      <td>1.019880e+09</td>\n",
              "      <td>MANHATTAN</td>\n",
              "      <td>997239.0</td>\n",
              "      <td>238074.0</td>\n",
              "      <td>PHONE</td>\n",
              "      <td>Unspecified</td>\n",
              "      <td>MANHATTAN</td>\n",
              "      <td>NaN</td>\n",
              "      <td>NaN</td>\n",
              "      <td>NaN</td>\n",
              "      <td>NaN</td>\n",
              "      <td>NaN</td>\n",
              "      <td>NaN</td>\n",
              "      <td>NaN</td>\n",
              "      <td>40.820124</td>\n",
              "      <td>-73.953071</td>\n",
              "      <td>(40.82012422332215, -73.9530712339799)</td>\n",
              "      <td>109</td>\n",
              "    </tr>\n",
              "    <tr>\n",
              "      <th>2</th>\n",
              "      <td>2</td>\n",
              "      <td>39882869</td>\n",
              "      <td>08/01/2018 12:00:54 AM</td>\n",
              "      <td>08/01/2018 12:49:55 AM</td>\n",
              "      <td>NYPD</td>\n",
              "      <td>New York City Police Department</td>\n",
              "      <td>noise - residential</td>\n",
              "      <td>Loud Music/Party</td>\n",
              "      <td>Residential Building/House</td>\n",
              "      <td>11216</td>\n",
              "      <td>761 LINCOLN PLACE</td>\n",
              "      <td>LINCOLN PLACE</td>\n",
              "      <td>ROGERS AVENUE</td>\n",
              "      <td>NOSTRAND AVENUE</td>\n",
              "      <td>NaN</td>\n",
              "      <td>NaN</td>\n",
              "      <td>ADDRESS</td>\n",
              "      <td>BROOKLYN</td>\n",
              "      <td>NaN</td>\n",
              "      <td>Precinct</td>\n",
              "      <td>Closed</td>\n",
              "      <td>08/01/2018 08:00:54 AM</td>\n",
              "      <td>The Police Department responded to the complai...</td>\n",
              "      <td>08/01/2018 12:49:55 AM</td>\n",
              "      <td>08 BROOKLYN</td>\n",
              "      <td>3.012540e+09</td>\n",
              "      <td>BROOKLYN</td>\n",
              "      <td>997732.0</td>\n",
              "      <td>183674.0</td>\n",
              "      <td>MOBILE</td>\n",
              "      <td>Unspecified</td>\n",
              "      <td>BROOKLYN</td>\n",
              "      <td>NaN</td>\n",
              "      <td>NaN</td>\n",
              "      <td>NaN</td>\n",
              "      <td>NaN</td>\n",
              "      <td>NaN</td>\n",
              "      <td>NaN</td>\n",
              "      <td>NaN</td>\n",
              "      <td>40.670809</td>\n",
              "      <td>-73.951399</td>\n",
              "      <td>(40.67080917938279, -73.9513990916184)</td>\n",
              "      <td>308</td>\n",
              "    </tr>\n",
              "    <tr>\n",
              "      <th>3</th>\n",
              "      <td>3</td>\n",
              "      <td>39894246</td>\n",
              "      <td>08/01/2018 12:01:00 AM</td>\n",
              "      <td>08/02/2018 10:30:00 PM</td>\n",
              "      <td>DEP</td>\n",
              "      <td>Department of Environmental Protection</td>\n",
              "      <td>noise</td>\n",
              "      <td>Noise: Construction Before/After Hours (NM1)</td>\n",
              "      <td>NaN</td>\n",
              "      <td>10010</td>\n",
              "      <td>NaN</td>\n",
              "      <td>NaN</td>\n",
              "      <td>NaN</td>\n",
              "      <td>NaN</td>\n",
              "      <td>5 AVENUE</td>\n",
              "      <td>EAST 21 STREET</td>\n",
              "      <td>INTERSECTION</td>\n",
              "      <td>NEW YORK</td>\n",
              "      <td>NaN</td>\n",
              "      <td>NaN</td>\n",
              "      <td>Closed</td>\n",
              "      <td>NaN</td>\n",
              "      <td>The Department of Environmental Protection did...</td>\n",
              "      <td>08/02/2018 10:30:00 PM</td>\n",
              "      <td>05 MANHATTAN</td>\n",
              "      <td>NaN</td>\n",
              "      <td>MANHATTAN</td>\n",
              "      <td>986878.0</td>\n",
              "      <td>208974.0</td>\n",
              "      <td>PHONE</td>\n",
              "      <td>Unspecified</td>\n",
              "      <td>MANHATTAN</td>\n",
              "      <td>NaN</td>\n",
              "      <td>NaN</td>\n",
              "      <td>NaN</td>\n",
              "      <td>NaN</td>\n",
              "      <td>NaN</td>\n",
              "      <td>NaN</td>\n",
              "      <td>NaN</td>\n",
              "      <td>40.740262</td>\n",
              "      <td>-73.990517</td>\n",
              "      <td>(40.74026158873342, -73.99051651686905)</td>\n",
              "      <td>105</td>\n",
              "    </tr>\n",
              "    <tr>\n",
              "      <th>4</th>\n",
              "      <td>4</td>\n",
              "      <td>39881329</td>\n",
              "      <td>08/01/2018 12:01:00 AM</td>\n",
              "      <td>08/05/2018 12:00:00 AM</td>\n",
              "      <td>DSNY</td>\n",
              "      <td>Department of Sanitation</td>\n",
              "      <td>request large bulky item collection</td>\n",
              "      <td>Request Large Bulky Item Collection</td>\n",
              "      <td>Sidewalk</td>\n",
              "      <td>11413</td>\n",
              "      <td>121-28 198 STREET</td>\n",
              "      <td>198 STREET</td>\n",
              "      <td>120 AVENUE</td>\n",
              "      <td>122 AVENUE</td>\n",
              "      <td>NaN</td>\n",
              "      <td>NaN</td>\n",
              "      <td>ADDRESS</td>\n",
              "      <td>Springfield Gardens</td>\n",
              "      <td>NaN</td>\n",
              "      <td>NaN</td>\n",
              "      <td>Closed</td>\n",
              "      <td>NaN</td>\n",
              "      <td>NaN</td>\n",
              "      <td>08/05/2018 12:00:00 AM</td>\n",
              "      <td>12 QUEENS</td>\n",
              "      <td>4.126830e+09</td>\n",
              "      <td>QUEENS</td>\n",
              "      <td>1053308.0</td>\n",
              "      <td>190084.0</td>\n",
              "      <td>PHONE</td>\n",
              "      <td>Unspecified</td>\n",
              "      <td>QUEENS</td>\n",
              "      <td>NaN</td>\n",
              "      <td>NaN</td>\n",
              "      <td>NaN</td>\n",
              "      <td>NaN</td>\n",
              "      <td>NaN</td>\n",
              "      <td>NaN</td>\n",
              "      <td>NaN</td>\n",
              "      <td>40.688144</td>\n",
              "      <td>-73.750990</td>\n",
              "      <td>(40.68814402968042, -73.75098958473612)</td>\n",
              "      <td>412</td>\n",
              "    </tr>\n",
              "  </tbody>\n",
              "</table>\n",
              "</div>"
            ],
            "text/plain": [
              "   Unnamed: 0  unique_key            created_date             closed_date  \\\n",
              "0           0    39888071  08/01/2018 12:00:10 AM  08/01/2018 01:52:46 AM   \n",
              "1           1    39889166  08/01/2018 12:00:26 AM  08/18/2018 10:46:43 AM   \n",
              "2           2    39882869  08/01/2018 12:00:54 AM  08/01/2018 12:49:55 AM   \n",
              "3           3    39894246  08/01/2018 12:01:00 AM  08/02/2018 10:30:00 PM   \n",
              "4           4    39881329  08/01/2018 12:01:00 AM  08/05/2018 12:00:00 AM   \n",
              "\n",
              "  agency                                        agency_name  \\\n",
              "0    DHS  Operations Unit - Department of Homeless Services   \n",
              "1    HPD  Department of Housing Preservation and Develop...   \n",
              "2   NYPD                    New York City Police Department   \n",
              "3    DEP             Department of Environmental Protection   \n",
              "4   DSNY                           Department of Sanitation   \n",
              "\n",
              "                        complaint_type  \\\n",
              "0           homeless person assistance   \n",
              "1                          door/window   \n",
              "2                  noise - residential   \n",
              "3                                noise   \n",
              "4  request large bulky item collection   \n",
              "\n",
              "                                     descriptor               location_type  \\\n",
              "0                                           NaN                       Other   \n",
              "1                                          DOOR        RESIDENTIAL BUILDING   \n",
              "2                              Loud Music/Party  Residential Building/House   \n",
              "3  Noise: Construction Before/After Hours (NM1)                         NaN   \n",
              "4           Request Large Bulky Item Collection                    Sidewalk   \n",
              "\n",
              "  incident_zip      incident_address       street_name cross_street_1  \\\n",
              "0        10029  200 EAST  109 STREET  EAST  109 STREET       3 AVENUE   \n",
              "1        10031  528 WEST  136 STREET  WEST  136 STREET            NaN   \n",
              "2        11216     761 LINCOLN PLACE     LINCOLN PLACE  ROGERS AVENUE   \n",
              "3        10010                   NaN               NaN            NaN   \n",
              "4        11413     121-28 198 STREET        198 STREET     120 AVENUE   \n",
              "\n",
              "    cross_street_2 intersection_street_1 intersection_street_2  address_type  \\\n",
              "0         2 AVENUE                   NaN                   NaN       ADDRESS   \n",
              "1              NaN                   NaN                   NaN       ADDRESS   \n",
              "2  NOSTRAND AVENUE                   NaN                   NaN       ADDRESS   \n",
              "3              NaN              5 AVENUE        EAST 21 STREET  INTERSECTION   \n",
              "4       122 AVENUE                   NaN                   NaN       ADDRESS   \n",
              "\n",
              "                  city landmark facility_type  status                due_date  \\\n",
              "0             NEW YORK      NaN           NaN  Closed  08/01/2018 01:00:10 AM   \n",
              "1             NEW YORK      NaN           NaN  Closed                     NaN   \n",
              "2             BROOKLYN      NaN      Precinct  Closed  08/01/2018 08:00:54 AM   \n",
              "3             NEW YORK      NaN           NaN  Closed                     NaN   \n",
              "4  Springfield Gardens      NaN           NaN  Closed                     NaN   \n",
              "\n",
              "                              resolution_description  \\\n",
              "0  The mobile outreach response team offered serv...   \n",
              "1  The Department of Housing Preservation and Dev...   \n",
              "2  The Police Department responded to the complai...   \n",
              "3  The Department of Environmental Protection did...   \n",
              "4                                                NaN   \n",
              "\n",
              "  resolution_action_updated_date community_board           bbl    borough  \\\n",
              "0         08/01/2018 01:52:46 AM    11 MANHATTAN  1.016560e+09  MANHATTAN   \n",
              "1         08/18/2018 10:46:43 AM    09 MANHATTAN  1.019880e+09  MANHATTAN   \n",
              "2         08/01/2018 12:49:55 AM     08 BROOKLYN  3.012540e+09   BROOKLYN   \n",
              "3         08/02/2018 10:30:00 PM    05 MANHATTAN           NaN  MANHATTAN   \n",
              "4         08/05/2018 12:00:00 AM       12 QUEENS  4.126830e+09     QUEENS   \n",
              "\n",
              "   x_coordinate_(state_plane)  y_coordinate_(state_plane)  \\\n",
              "0                   1000049.0                    228317.0   \n",
              "1                    997239.0                    238074.0   \n",
              "2                    997732.0                    183674.0   \n",
              "3                    986878.0                    208974.0   \n",
              "4                   1053308.0                    190084.0   \n",
              "\n",
              "  open_data_channel_type park_facility_name park_borough vehicle_type  \\\n",
              "0                 MOBILE        Unspecified    MANHATTAN          NaN   \n",
              "1                  PHONE        Unspecified    MANHATTAN          NaN   \n",
              "2                 MOBILE        Unspecified     BROOKLYN          NaN   \n",
              "3                  PHONE        Unspecified    MANHATTAN          NaN   \n",
              "4                  PHONE        Unspecified       QUEENS          NaN   \n",
              "\n",
              "  taxi_company_borough taxi_pick_up_location bridge_highway_name  \\\n",
              "0                  NaN                   NaN                 NaN   \n",
              "1                  NaN                   NaN                 NaN   \n",
              "2                  NaN                   NaN                 NaN   \n",
              "3                  NaN                   NaN                 NaN   \n",
              "4                  NaN                   NaN                 NaN   \n",
              "\n",
              "  bridge_highway_direction road_ramp bridge_highway_segment   latitude  \\\n",
              "0                      NaN       NaN                    NaN  40.793339   \n",
              "1                      NaN       NaN                    NaN  40.820124   \n",
              "2                      NaN       NaN                    NaN  40.670809   \n",
              "3                      NaN       NaN                    NaN  40.740262   \n",
              "4                      NaN       NaN                    NaN  40.688144   \n",
              "\n",
              "   longitude                                 location borocd  \n",
              "0 -73.942942   (40.79333937834769, -73.9429417746998)    111  \n",
              "1 -73.953071   (40.82012422332215, -73.9530712339799)    109  \n",
              "2 -73.951399   (40.67080917938279, -73.9513990916184)    308  \n",
              "3 -73.990517  (40.74026158873342, -73.99051651686905)    105  \n",
              "4 -73.750990  (40.68814402968042, -73.75098958473612)    412  "
            ]
          },
          "metadata": {
            "tags": []
          },
          "execution_count": 8
        }
      ]
    },
    {
      "cell_type": "code",
      "metadata": {
        "id": "oCvu4aklcXXx",
        "colab_type": "code",
        "colab": {}
      },
      "source": [
        "\n",
        "# this function will recode the community_board value into borocd in a new column\n",
        "  def recode_borocd_counts(row):\n",
        "    if row.community_board[0] != 'U':\n",
        "      if 'MANHATTAN' in row.community_board:\n",
        "        return '1' + row.community_board[:2]\n",
        "      elif 'BRONX' in row.community_board:\n",
        "        return '2' + row.community_board[:2]\n",
        "      elif 'BROOKLYN' in row.community_board:\n",
        "        return '3' + row.community_board[:2]\n",
        "      elif 'QUEENS' in row.community_board:\n",
        "        return '4' + row.community_board[:2]\n",
        "      elif 'STATEN ISLAND' in row.community_board:\n",
        "        return '5' + row.community_board[:2]\n",
        "    else:\n",
        "      return 'Invalid borocd'\n",
        "\n",
        "cb_counts['borocd'] = cb_counts.apply(recode_borocd_counts, axis=1)"
      ],
      "execution_count": 0,
      "outputs": []
    },
    {
      "cell_type": "code",
      "metadata": {
        "id": "DqyFemgFcmK8",
        "colab_type": "code",
        "colab": {}
      },
      "source": [
        "merged_data = pd.merge(left=cb_counts, right=df, left_on=['borocd','community_board'], right_on=['borocd','community_board'])"
      ],
      "execution_count": 0,
      "outputs": []
    },
    {
      "cell_type": "code",
      "metadata": {
        "id": "4Y1DGVicbMou",
        "colab_type": "code",
        "outputId": "be61a6f9-fc3d-4a50-fbab-e253a0508ede",
        "colab": {
          "base_uri": "https://localhost:8080/",
          "height": 35
        }
      },
      "source": [
        "merged_data_noise = merged_data[merged_data.complaint_type=='noise - residential']\n",
        "merged_data_noise = merged_data_noise.groupby('borocd').size().reset_index(name='count_of_311_requests')\n",
        "#checking code\n",
        "print(len(merged_data_noise))"
      ],
      "execution_count": 11,
      "outputs": [
        {
          "output_type": "stream",
          "text": [
            "68\n"
          ],
          "name": "stdout"
        }
      ]
    },
    {
      "cell_type": "code",
      "metadata": {
        "id": "V0cdtcxJRZpe",
        "colab_type": "code",
        "outputId": "68a2b476-c32c-4df8-fd87-0a074f1209ca",
        "colab": {
          "base_uri": "https://localhost:8080/",
          "height": 35
        }
      },
      "source": [
        "merged_data_heat = merged_data[merged_data.complaint_type=='heat/hot water']\n",
        "merged_data_heat = merged_data_heat.groupby('borocd').size().reset_index(name='count_of_311_requests')\n",
        "#checking code\n",
        "print(len(merged_data_heat))"
      ],
      "execution_count": 12,
      "outputs": [
        {
          "output_type": "stream",
          "text": [
            "62\n"
          ],
          "name": "stdout"
        }
      ]
    },
    {
      "cell_type": "code",
      "metadata": {
        "id": "Dz3MLSFERo1y",
        "colab_type": "code",
        "outputId": "b77af0ef-2134-45cb-c940-21338e08e968",
        "colab": {
          "base_uri": "https://localhost:8080/",
          "height": 92
        }
      },
      "source": [
        "merged_data_else = merged_data[merged_data.complaint_type != 'noise - residential'][merged_data.complaint_type != 'heat/hot water']\n",
        "merged_data_else = merged_data_else.groupby('borocd').size().reset_index(name='count_of_311_requests')\n",
        "#checking code\n",
        "print(len(merged_data_else))"
      ],
      "execution_count": 13,
      "outputs": [
        {
          "output_type": "stream",
          "text": [
            "/usr/local/lib/python3.6/dist-packages/ipykernel_launcher.py:1: UserWarning: Boolean Series key will be reindexed to match DataFrame index.\n",
            "  \"\"\"Entry point for launching an IPython kernel.\n"
          ],
          "name": "stderr"
        },
        {
          "output_type": "stream",
          "text": [
            "72\n"
          ],
          "name": "stdout"
        }
      ]
    },
    {
      "cell_type": "code",
      "metadata": {
        "id": "KoJ4BIehqVfF",
        "colab_type": "code",
        "outputId": "7de4fdcc-0816-4168-a834-1e2b318d0901",
        "colab": {
          "base_uri": "https://localhost:8080/",
          "height": 35
        }
      },
      "source": [
        "# per the starter template, checking all\n",
        "merged_data_all = merged_data.groupby('borocd').size().reset_index(name='count_of_311_requests')\n",
        "#checking code\n",
        "print(len(merged_data_all))"
      ],
      "execution_count": 14,
      "outputs": [
        {
          "output_type": "stream",
          "text": [
            "72\n"
          ],
          "name": "stdout"
        }
      ]
    },
    {
      "cell_type": "code",
      "metadata": {
        "id": "-JN03GRHrNsp",
        "colab_type": "code",
        "colab": {}
      },
      "source": [
        "valid_borocds = ['101','102','103','104','105','106','107','108','109','110','111','112','201','202','203','204','205','206','207','208','209','210','211','212','301','302','303','304','305','306','307','308','309','310','311','312','313','314','315','316','317','318','401','402','403','404','405','406','407','408','409','410','411','412','413','414','501','502','503']"
      ],
      "execution_count": 0,
      "outputs": []
    },
    {
      "cell_type": "code",
      "metadata": {
        "id": "MRWLe5Ttrc73",
        "colab_type": "code",
        "outputId": "608bfcef-126b-4612-9457-97a1b5973e5b",
        "colab": {
          "base_uri": "https://localhost:8080/",
          "height": 90
        }
      },
      "source": [
        "merged_data_noise = merged_data_noise[merged_data_noise.borocd.isin(valid_borocds)]\n",
        "print(len(merged_data_noise))\n",
        "\n",
        "merged_data_heat = merged_data_heat[merged_data_heat.borocd.isin(valid_borocds)]\n",
        "print(len(merged_data_heat))\n",
        "\n",
        "merged_data_else = merged_data_else[merged_data_else.borocd.isin(valid_borocds)]\n",
        "print(len(merged_data_else))\n",
        "\n",
        "merged_data_all = merged_data_all[merged_data_all.borocd.isin(valid_borocds)]\n",
        "print(len(merged_data_all))"
      ],
      "execution_count": 17,
      "outputs": [
        {
          "output_type": "stream",
          "text": [
            "59\n",
            "59\n",
            "59\n",
            "59\n"
          ],
          "name": "stdout"
        }
      ]
    },
    {
      "cell_type": "markdown",
      "metadata": {
        "id": "8VTRfop7Y9br",
        "colab_type": "text"
      },
      "source": [
        "**Step 2.** Create a stacked bar chart comprised of three stacked bars. The total height of each bar (the sum of the three stacked bars) should reflect the total count of 311 complaints per CD.\n",
        "\n",
        "1. number of 'Noise - Residential' complaints per CD\n",
        "2. number of 'HEAT/HOT WATER' complaints per CD\n",
        "3. number of other complaints per CD"
      ]
    },
    {
      "cell_type": "code",
      "metadata": {
        "id": "mtzLkw1Yvx15",
        "colab_type": "code",
        "outputId": "05708438-953b-47b3-990a-a525ecf75ad6",
        "colab": {
          "base_uri": "https://localhost:8080/",
          "height": 414
        }
      },
      "source": [
        "# list of bar positions on x axis\n",
        "position_on_x = np.arange(len(merged_data_all))\n",
        "\n",
        "# original set of counts data\n",
        "# note: it's important to use np.array(series) to convert the pandas series into an array. \n",
        "# if you don't do this, the stacking won't work corectly - this is particularly true for stacked bar charts\n",
        "noise = np.array(merged_data_noise.sort_values(by='count_of_311_requests').count_of_311_requests)\n",
        "heat = np.array(merged_data_heat.sort_values(by='count_of_311_requests').count_of_311_requests)\n",
        "other = np.array(merged_data_else.sort_values(by='count_of_311_requests').count_of_311_requests)\n",
        "\n",
        "# creating an array (aka list) of test data so we can easily visualize how the stacking works\n",
        "test_counts = np.full(len(merged_data_all),20000)\n",
        "\n",
        "plt.figure(figsize=(15, 6))\n",
        "\n",
        "# need to name the plots as objects in order to access their color attributes in the legend\n",
        "plot1 = plt.bar(\n",
        "  position_on_x,\n",
        "  noise,\n",
        "  align='center',\n",
        "  color='#c242f5',\n",
        "  label='Noise Complaints'\n",
        ")\n",
        "# the order of the charts matters, if you don't include the \"bottom\" call, it it will stack your second chart on to the first\n",
        "# the second plot gets rendered on top of the first\n",
        "plot2 = plt.bar(\n",
        "  position_on_x,\n",
        "  heat,\n",
        "  bottom=noise, \n",
        "  # bottom defines the starting number to which each y value will be added instead of starting at 0\n",
        "  # the counts value will get added to the corresponding counts_plus_10000 value\n",
        "  align='center',\n",
        "  color='#1c27ff',\n",
        "  label='Heat/Hot Water Complaints'\n",
        ")\n",
        "plot3 = plt.bar(\n",
        "  position_on_x,\n",
        "  other,\n",
        "  bottom=heat+noise, \n",
        "  # bottom defines the starting number to which each y value will be added instead of starting at 0\n",
        "  # the counts value will get added to the corresponding counts_plus_10000 value\n",
        "  align='center',\n",
        "  color='#1cffdd',\n",
        "  label='All Other Complaints'\n",
        ")\n",
        "plt.xticks(position_on_x, merged_data_all.sort_values(by='count_of_311_requests').borocd, rotation=90)\n",
        "\n",
        "plt.title('Count of 311 Requests per Community District')\n",
        "plt.xlabel('BoroCD')\n",
        "plt.ylabel('# of Requests')\n",
        "plt.legend() # defaults to putting legend in top right\n",
        "\n",
        "plt.show()"
      ],
      "execution_count": 20,
      "outputs": [
        {
          "output_type": "display_data",
          "data": {
            "image/png": "[encoded data removed]",
            "text/plain": [
              "<Figure size 1080x432 with 1 Axes>"
            ]
          },
          "metadata": {
            "tags": []
          }
        }
      ]
    },
    {
      "cell_type": "markdown",
      "metadata": {
        "id": "4lTEJNSWx0Bc",
        "colab_type": "text"
      },
      "source": [
        "**Step 3.** Using the same three dataframes created in Step 1, create a scatter plot of community district population (x-axis) vs. community district 311 counts (y-axis) split out by complaint category (noise, heat/water, other). The scatter plot should show the counts of each of the three complaint categories in a different color."
      ]
    },
    {
      "cell_type": "code",
      "metadata": {
        "id": "LO22nMI8zKvC",
        "colab_type": "code",
        "outputId": "321a647d-356b-4454-cf27-d85817d1d6a5",
        "colab": {
          "base_uri": "https://localhost:8080/",
          "height": 447
        }
      },
      "source": [
        "population = pd.read_csv('https://data.cityofnewyork.us/api/views/xi7c-iiu2/rows.csv?accessType=DOWNLOAD', header='infer')\n",
        "population.head()"
      ],
      "execution_count": 0,
      "outputs": [
        {
          "output_type": "execute_result",
          "data": {
            "text/html": [
              "<div>\n",
              "<style scoped>\n",
              "    .dataframe tbody tr th:only-of-type {\n",
              "        vertical-align: middle;\n",
              "    }\n",
              "\n",
              "    .dataframe tbody tr th {\n",
              "        vertical-align: top;\n",
              "    }\n",
              "\n",
              "    .dataframe thead th {\n",
              "        text-align: right;\n",
              "    }\n",
              "</style>\n",
              "<table border=\"1\" class=\"dataframe\">\n",
              "  <thead>\n",
              "    <tr style=\"text-align: right;\">\n",
              "      <th></th>\n",
              "      <th>Borough</th>\n",
              "      <th>CD Number</th>\n",
              "      <th>CD Name</th>\n",
              "      <th>1970 Population</th>\n",
              "      <th>1980 Population</th>\n",
              "      <th>1990 Population</th>\n",
              "      <th>2000 Population</th>\n",
              "      <th>2010 Population</th>\n",
              "    </tr>\n",
              "  </thead>\n",
              "  <tbody>\n",
              "    <tr>\n",
              "      <th>0</th>\n",
              "      <td>Bronx</td>\n",
              "      <td>1</td>\n",
              "      <td>Melrose, Mott Haven, Port Morris</td>\n",
              "      <td>138557</td>\n",
              "      <td>78441</td>\n",
              "      <td>77214</td>\n",
              "      <td>82159</td>\n",
              "      <td>91497</td>\n",
              "    </tr>\n",
              "    <tr>\n",
              "      <th>1</th>\n",
              "      <td>Bronx</td>\n",
              "      <td>2</td>\n",
              "      <td>Hunts Point, Longwood</td>\n",
              "      <td>99493</td>\n",
              "      <td>34399</td>\n",
              "      <td>39443</td>\n",
              "      <td>46824</td>\n",
              "      <td>52246</td>\n",
              "    </tr>\n",
              "    <tr>\n",
              "      <th>2</th>\n",
              "      <td>Bronx</td>\n",
              "      <td>3</td>\n",
              "      <td>Morrisania, Crotona Park East</td>\n",
              "      <td>150636</td>\n",
              "      <td>53635</td>\n",
              "      <td>57162</td>\n",
              "      <td>68574</td>\n",
              "      <td>79762</td>\n",
              "    </tr>\n",
              "    <tr>\n",
              "      <th>3</th>\n",
              "      <td>Bronx</td>\n",
              "      <td>4</td>\n",
              "      <td>Highbridge, Concourse Village</td>\n",
              "      <td>144207</td>\n",
              "      <td>114312</td>\n",
              "      <td>119962</td>\n",
              "      <td>139563</td>\n",
              "      <td>146441</td>\n",
              "    </tr>\n",
              "    <tr>\n",
              "      <th>4</th>\n",
              "      <td>Bronx</td>\n",
              "      <td>5</td>\n",
              "      <td>University Hts., Fordham, Mt. Hope</td>\n",
              "      <td>121807</td>\n",
              "      <td>107995</td>\n",
              "      <td>118435</td>\n",
              "      <td>128313</td>\n",
              "      <td>128200</td>\n",
              "    </tr>\n",
              "  </tbody>\n",
              "</table>\n",
              "</div>"
            ],
            "text/plain": [
              "  Borough  CD Number                             CD Name  1970 Population  \\\n",
              "0   Bronx          1    Melrose, Mott Haven, Port Morris           138557   \n",
              "1   Bronx          2               Hunts Point, Longwood            99493   \n",
              "2   Bronx          3       Morrisania, Crotona Park East           150636   \n",
              "3   Bronx          4       Highbridge, Concourse Village           144207   \n",
              "4   Bronx          5  University Hts., Fordham, Mt. Hope           121807   \n",
              "\n",
              "   1980 Population  1990 Population  2000 Population  2010 Population  \n",
              "0            78441            77214            82159            91497  \n",
              "1            34399            39443            46824            52246  \n",
              "2            53635            57162            68574            79762  \n",
              "3           114312           119962           139563           146441  \n",
              "4           107995           118435           128313           128200  "
            ]
          },
          "metadata": {
            "tags": []
          },
          "execution_count": 18
        }
      ]
    },
    {
      "cell_type": "code",
      "metadata": {
        "id": "Jbnxv_7Uz2_s",
        "colab_type": "code",
        "colab": {}
      },
      "source": [
        "# Create a function recode_borocd_pop that combines and recodes the Borough and CD Number values to create a borocd unique ID\n",
        "\n",
        "def recode_borocd_pop(row):\n",
        "  if row.Borough == 'Manhattan':\n",
        "    return str(100 + row['CD Number'])\n",
        "  elif row.Borough == 'Bronx':\n",
        "    return str(200 + row['CD Number'])\n",
        "  elif row.Borough == 'Brooklyn':\n",
        "    return str(300 + row['CD Number'])\n",
        "  elif row.Borough == 'Queens':\n",
        "    return str(400 + row['CD Number'])\n",
        "  elif row.Borough == 'Staten Island':\n",
        "    return str(500 + row['CD Number'])\n",
        "  else:\n",
        "    return 'Invalid borocd'\n",
        "\n",
        "population['borocd'] = population.apply(recode_borocd_pop, axis=1)"
      ],
      "execution_count": 0,
      "outputs": []
    },
    {
      "cell_type": "code",
      "metadata": {
        "id": "gaJh15nVCQTP",
        "colab_type": "code",
        "colab": {}
      },
      "source": [
        "merged_all = pd.merge(left=population, right=merged_data, left_on='borocd', right_on='borocd')"
      ],
      "execution_count": 0,
      "outputs": []
    },
    {
      "cell_type": "code",
      "metadata": {
        "id": "VViL4h_8z5c9",
        "colab_type": "code",
        "colab": {}
      },
      "source": [
        "merged_data_noise = pd.merge(left=merged_data_noise, right=population, left_on='borocd', right_on='borocd')"
      ],
      "execution_count": 0,
      "outputs": []
    },
    {
      "cell_type": "code",
      "metadata": {
        "id": "SVOlY6ZH7tUZ",
        "colab_type": "code",
        "colab": {}
      },
      "source": [
        "merged_data_heat = pd.merge(left=merged_data_heat, right=population, left_on='borocd', right_on='borocd')"
      ],
      "execution_count": 0,
      "outputs": []
    },
    {
      "cell_type": "code",
      "metadata": {
        "id": "GzMWnBEB7xmN",
        "colab_type": "code",
        "colab": {}
      },
      "source": [
        "merged_data_else = pd.merge(left=merged_data_else, right=population, left_on='borocd', right_on='borocd')"
      ],
      "execution_count": 0,
      "outputs": []
    },
    {
      "cell_type": "code",
      "metadata": {
        "id": "8KDM8it_ykVM",
        "colab_type": "code",
        "colab": {}
      },
      "source": [
        "noise_comp = [ # one subset for all borocd records in manhattan.\n",
        "  # we are creating a list of two lists. x = population in thousands\n",
        "  [merged_data_noise['2010 Population']/1000],\n",
        "  # y = count of 311 requests\n",
        "  [merged_data_noise['count_of_311_requests']]\n",
        "]\n",
        "\n",
        "heat_comp = [\n",
        "  [merged_data_heat['2010 Population']/1000],\n",
        "  # y = count of 311 requests\n",
        "  [merged_data_heat['count_of_311_requests']]\n",
        "]\n",
        "\n",
        "other_comp = [\n",
        "  [merged_data_else['2010 Population']/1000],\n",
        "  # y = count of 311 requests\n",
        "  [merged_data_else['count_of_311_requests']]\n",
        "]"
      ],
      "execution_count": 0,
      "outputs": []
    },
    {
      "cell_type": "code",
      "metadata": {
        "id": "ndRGmzOWyH4s",
        "colab_type": "code",
        "outputId": "ee95b094-7549-4b40-9a2b-d613dc1a1d05",
        "colab": {
          "base_uri": "https://localhost:8080/",
          "height": 424
        }
      },
      "source": [
        "# define the color to be used for the markers for each data subset group\n",
        "# they need to  be the order in which you defined your data sets\n",
        "colors = [\"#c242f5\", \"#1c27ff\", \"#1cffdd\"]\n",
        "\n",
        "# define the labels to be used for the data subset group\n",
        "groups = [\"Noise\", \"Heat/Hot Water\", \"Other\"]\n",
        "\n",
        "plt.figure(figsize=(15,6))\n",
        "\n",
        "plt.scatter(\n",
        "  noise_comp[0],\n",
        "  noise_comp[1],\n",
        "  alpha=0.8,\n",
        "  c=colors[0],\n",
        "  s=50,\n",
        "  label=groups[0]\n",
        ")\n",
        "# each new plot gets rendered on top of the previous one\n",
        "plt.scatter(\n",
        "  heat_comp[0],\n",
        "  heat_comp[1],\n",
        "  alpha=0.8,\n",
        "  c=colors[1],\n",
        "  s=50,\n",
        "  label=groups[1]\n",
        ")\n",
        "plt.scatter(\n",
        "  other_comp[0],\n",
        "  other_comp[1],\n",
        "  alpha=0.8,\n",
        "  c=colors[2],\n",
        "  s=50,\n",
        "  label=groups[2]\n",
        ")\n",
        "\n",
        "\n",
        "plt.title('311 Requests vs. Community District Population')\n",
        "plt.xlabel('Population in Community District (Thousands)')\n",
        "plt.ylabel('# of 311 Requests in Community District')\n",
        "\n",
        "# add legend at specified location\n",
        "# loc=1 top right\n",
        "# loc=2 top left\n",
        "# loc=3 bottom left\n",
        "# loc=4 bottom right\n",
        "# the legend automatically finds each of the legends from each of the previous scatter plots\n",
        "plt.legend(loc=2)\n",
        "\n",
        "plt.show()"
      ],
      "execution_count": 0,
      "outputs": [
        {
          "output_type": "display_data",
          "data": {
            "image/png": "[encoded data removed]",
            "text/plain": [
              "<Figure size 1080x432 with 1 Axes>"
            ]
          },
          "metadata": {
            "tags": []
          }
        }
      ]
    },
    {
      "cell_type": "markdown",
      "metadata": {
        "id": "fHuNzuAHNw77",
        "colab_type": "text"
      },
      "source": [
        "# Review Question 1\n",
        "\n",
        "Does it seem like there's a positive correlation between population and noise complaints or population and heat/water complaints?\n",
        "\n",
        "No, it does not"
      ]
    },
    {
      "cell_type": "markdown",
      "metadata": {
        "id": "xcAa-yhYN9G0",
        "colab_type": "text"
      },
      "source": [
        "# Review Question 2\n",
        " What's a possible explanation for the relationship or lack of relationship?\n",
        "\n",
        " It could be a case of \"[bystander effect](https://en.wikipedia.org/wiki/Bystander_effect)\" -- when there are more people around, people are less likely to report a problem, under the assumption that other individuals will handle it. "
      ]
    }
  ]
}